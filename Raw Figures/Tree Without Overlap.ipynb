{
 "cells": [
  {
   "cell_type": "code",
   "execution_count": 1,
   "id": "6418c50e",
   "metadata": {},
   "outputs": [],
   "source": [
    "from anytree import Node, RenderTree"
   ]
  },
  {
   "cell_type": "code",
   "execution_count": 2,
   "id": "54d3950d",
   "metadata": {},
   "outputs": [
    {
     "name": "stdout",
     "output_type": "stream",
     "text": [
      "1562 Total Sessions\n",
      "└── Travel Pixel Max Vs Shift(A)|56.914% of Total Sessions| 889 Sessions\n",
      "    ├── A1|  7.362% |115 Sessions\n",
      "    ├── A2| 23.368% |365 Sessions\n",
      "    └── A3| 26.184% |409 Sessions\n"
     ]
    }
   ],
   "source": [
    "allSessions = Node(\"1562 Total Sessions\")\n",
    "#A\n",
    "A = Node(\"Travel Pixel Max Vs Shift(A)|56.914% of Total Sessions| 889 Sessions\",parent=allSessions)\n",
    "\n",
    "A1 = Node(\"A1|  7.362% |115 Sessions\", parent=A)\n",
    "A2 = Node(\"A2| 23.368% |365 Sessions\", parent=A)\n",
    "A3 = Node(\"A3| 26.184% |409 Sessions\", parent=A)\n",
    "\n",
    "\n",
    "for pre, fill, node in RenderTree(allSessions):\n",
    "    print(\"%s%s\" % (pre, node.name))"
   ]
  },
  {
   "cell_type": "code",
   "execution_count": 3,
   "id": "30d16afe",
   "metadata": {},
   "outputs": [
    {
     "name": "stdout",
     "output_type": "stream",
     "text": [
      "1562 Total Sessions\n",
      "├── Travel Pixel Max Vs Shift(A)|56.914% of Total Sessions| 889 Sessions\n",
      "│   ├── A1|  7.362% |115 Sessions\n",
      "│   ├── A2| 23.368% |365 Sessions\n",
      "│   └── A3| 26.184% |409 Sessions\n",
      "└── Stopping Points Max Vs Steepness(E)|36.620% of Total Sessions| 572 Sessions\n",
      "    ├── E1|  4.481% |70 Sessions\n",
      "    ├── E2| 25.544% |399 Sessions\n",
      "    ├── E3|  3.521% |55 Sessions\n",
      "    └── E4|  3.073% |48 Sessions\n"
     ]
    }
   ],
   "source": [
    "#E\n",
    "E = Node(\"Stopping Points Max Vs Steepness(E)|36.620% of Total Sessions| 572 Sessions\",parent=allSessions)\n",
    "\n",
    "E1 = Node(\"E1|  4.481% |70 Sessions\", parent=E)\n",
    "E2 = Node(\"E2| 25.544% |399 Sessions\", parent=E)\n",
    "E3 = Node(\"E3|  3.521% |55 Sessions\", parent=E)\n",
    "E4 = Node(\"E4|  3.073% |48 Sessions\", parent=E)\n",
    "\n",
    "\n",
    "for pre, fill, node in RenderTree(allSessions):\n",
    "    print(\"%s%s\" % (pre, node.name))"
   ]
  },
  {
   "cell_type": "code",
   "execution_count": 4,
   "id": "fd4ecc46",
   "metadata": {},
   "outputs": [
    {
     "name": "stdout",
     "output_type": "stream",
     "text": [
      "1562 Total Sessions\n",
      "├── Travel Pixel Max Vs Shift(A)|56.914% of Total Sessions| 889 Sessions\n",
      "│   ├── A1|  7.362% |115 Sessions\n",
      "│   ├── A2| 23.368% |365 Sessions\n",
      "│   └── A3| 26.184% |409 Sessions\n",
      "├── Stopping Points Max Vs Steepness(E)|36.620% of Total Sessions| 572 Sessions\n",
      "│   ├── E1|  4.481% |70 Sessions\n",
      "│   ├── E2| 25.544% |399 Sessions\n",
      "│   ├── E3|  3.521% |55 Sessions\n",
      "│   └── E4|  3.073% |48 Sessions\n",
      "└── Rotation Points Max Vs Steepness(H)|44.494% of Total Sessions| 695 Sessions\n",
      "    ├── H1|  6.530% |102 Sessions\n",
      "    ├── H2|  1.152% |18 Sessions\n",
      "    ├── H3| 31.562% |493 Sessions\n",
      "    └── H4|  5.250% |82 Sessions\n"
     ]
    }
   ],
   "source": [
    "#H\n",
    "H = Node(\"Rotation Points Max Vs Steepness(H)|44.494% of Total Sessions| 695 Sessions\",parent=allSessions)\n",
    "\n",
    "H1 = Node(\"H1|  6.530% |102 Sessions\", parent=H)\n",
    "H2 = Node(\"H2|  1.152% |18 Sessions\", parent=H)\n",
    "H3 = Node(\"H3| 31.562% |493 Sessions\", parent=H)\n",
    "H4 = Node(\"H4|  5.250% |82 Sessions\", parent=H)\n",
    "\n",
    "\n",
    "for pre, fill, node in RenderTree(allSessions):\n",
    "    print(\"%s%s\" % (pre, node.name))"
   ]
  },
  {
   "cell_type": "code",
   "execution_count": 5,
   "id": "5c164120",
   "metadata": {},
   "outputs": [
    {
     "name": "stdout",
     "output_type": "stream",
     "text": [
      "1562 Total Sessions\n",
      "├── Travel Pixel Max Vs Shift(A)|56.914% of Total Sessions| 889 Sessions\n",
      "│   ├── A1|  7.362% |115 Sessions\n",
      "│   ├── A2| 23.368% |365 Sessions\n",
      "│   └── A3| 26.184% |409 Sessions\n",
      "├── Stopping Points Max Vs Steepness(E)|36.620% of Total Sessions| 572 Sessions\n",
      "│   ├── E1|  4.481% |70 Sessions\n",
      "│   ├── E2| 25.544% |399 Sessions\n",
      "│   ├── E3|  3.521% |55 Sessions\n",
      "│   └── E4|  3.073% |48 Sessions\n",
      "├── Rotation Points Max Vs Steepness(H)|44.494% of Total Sessions| 695 Sessions\n",
      "│   ├── H1|  6.530% |102 Sessions\n",
      "│   ├── H2|  1.152% |18 Sessions\n",
      "│   ├── H3| 31.562% |493 Sessions\n",
      "│   └── H4|  5.250% |82 Sessions\n",
      "└── Reaction Time Max Vs Steepness(K)|53.457% of Total Sessions|835 Sessions \n",
      "    ├── K1| 22.343% |349 Sessions\n",
      "    ├── K2|  4.930% |77 Sessions\n",
      "    └── K3| 26.184% |409 Sessions\n"
     ]
    }
   ],
   "source": [
    "#K\n",
    "K = Node(\"Reaction Time Max Vs Steepness(K)|53.457% of Total Sessions|835 Sessions \",parent=allSessions)\n",
    "\n",
    "K1 = Node(\"K1| 22.343% |349 Sessions\", parent=K)\n",
    "K2 = Node(\"K2|  4.930% |77 Sessions\", parent=K)\n",
    "K3 = Node(\"K3| 26.184% |409 Sessions\", parent=K)\n",
    "\n",
    "\n",
    "for pre, fill, node in RenderTree(allSessions):\n",
    "    print(\"%s%s\" % (pre, node.name))"
   ]
  },
  {
   "cell_type": "code",
   "execution_count": 6,
   "id": "c18664cc",
   "metadata": {},
   "outputs": [
    {
     "name": "stdout",
     "output_type": "stream",
     "text": [
      "1562 Total Sessions\n",
      "├── Travel Pixel Max Vs Shift(A)|56.914% of Total Sessions| 889 Sessions\n",
      "│   ├── A1|  7.362% |115 Sessions\n",
      "│   ├── A2| 23.368% |365 Sessions\n",
      "│   └── A3| 26.184% |409 Sessions\n",
      "├── Stopping Points Max Vs Steepness(E)|36.620% of Total Sessions| 572 Sessions\n",
      "│   ├── E1|  4.481% |70 Sessions\n",
      "│   ├── E2| 25.544% |399 Sessions\n",
      "│   ├── E3|  3.521% |55 Sessions\n",
      "│   └── E4|  3.073% |48 Sessions\n",
      "├── Rotation Points Max Vs Steepness(H)|44.494% of Total Sessions| 695 Sessions\n",
      "│   ├── H1|  6.530% |102 Sessions\n",
      "│   ├── H2|  1.152% |18 Sessions\n",
      "│   ├── H3| 31.562% |493 Sessions\n",
      "│   └── H4|  5.250% |82 Sessions\n",
      "├── Reaction Time Max Vs Steepness(K)|53.457% of Total Sessions|835 Sessions \n",
      "│   ├── K1| 22.343% |349 Sessions\n",
      "│   ├── K2|  4.930% |77 Sessions\n",
      "│   └── K3| 26.184% |409 Sessions\n",
      "└── Reward Choice Max Vs Steepness (N)| 72.023% of Total Sessions|1125 Sessions \n",
      "    ├── N1| 38.156% |596 Sessions\n",
      "    ├── N2|  2.497% |39 Sessions\n",
      "    └── N3| 31.370% |490 Sessions\n"
     ]
    }
   ],
   "source": [
    "N = Node(\"Reward Choice Max Vs Steepness (N)| 72.023% of Total Sessions|1125 Sessions \",parent=allSessions)\n",
    "\n",
    "N1 = Node(\"N1| 38.156% |596 Sessions\", parent=N)\n",
    "N2 = Node(\"N2|  2.497% |39 Sessions\", parent=N)\n",
    "N3 = Node(\"N3| 31.370% |490 Sessions\", parent=N)\n",
    "\n",
    "\n",
    "for pre, fill, node in RenderTree(allSessions):\n",
    "    print(\"%s%s\" % (pre, node.name))"
   ]
  },
  {
   "cell_type": "code",
   "execution_count": null,
   "id": "8365ef05",
   "metadata": {},
   "outputs": [],
   "source": []
  }
 ],
 "metadata": {
  "kernelspec": {
   "display_name": "Python 3 (ipykernel)",
   "language": "python",
   "name": "python3"
  },
  "language_info": {
   "codemirror_mode": {
    "name": "ipython",
    "version": 3
   },
   "file_extension": ".py",
   "mimetype": "text/x-python",
   "name": "python",
   "nbconvert_exporter": "python",
   "pygments_lexer": "ipython3",
   "version": "3.7.13"
  }
 },
 "nbformat": 4,
 "nbformat_minor": 5
}
