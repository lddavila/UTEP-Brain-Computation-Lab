{
 "cells": [
  {
   "cell_type": "code",
   "execution_count": 1,
   "id": "37b3c5d0",
   "metadata": {},
   "outputs": [],
   "source": [
    "from anytree import Node, RenderTree\n",
    "from anytree.exporter import DotExporter"
   ]
  },
  {
   "cell_type": "code",
   "execution_count": 2,
   "id": "5323ef72",
   "metadata": {},
   "outputs": [
    {
     "name": "stdout",
     "output_type": "stream",
     "text": [
      "1562 Total Sessions\n",
      "└── Reward Choice Max Vs Shift (M)| 72.023% of Total Sessions|1125 Sessions \n",
      "    ├── M1| 2.561%  |40 Sessions\n",
      "    ├── M2| 31.306% |489 Sessions\n",
      "    ├── M3| 10.500% |164 Sessions\n",
      "    └── M4| 27.081% |423 Sessions\n"
     ]
    }
   ],
   "source": [
    "allSessions = Node(\"1562 Total Sessions\")\n",
    "\n",
    "M = Node(\"Reward Choice Max Vs Shift (M)| 72.023% of Total Sessions|1125 Sessions \",parent=allSessions)\n",
    "\n",
    "M1 = Node(\"M1| 2.561%  |40 Sessions\", parent=M)\n",
    "M2 = Node(\"M2| 31.306% |489 Sessions\", parent=M)\n",
    "M3 = Node(\"M3| 10.500% |164 Sessions\", parent=M)\n",
    "M4 = Node(\"M4| 27.081% |423 Sessions\", parent=M)\n",
    "\n",
    "\n",
    "for pre, fill, node in RenderTree(allSessions):\n",
    "    print(\"%s%s\" % (pre, node.name))"
   ]
  },
  {
   "cell_type": "code",
   "execution_count": 3,
   "id": "9d170736",
   "metadata": {},
   "outputs": [
    {
     "name": "stdout",
     "output_type": "stream",
     "text": [
      "1562 Total Sessions\n",
      "└── Reward Choice Max Vs Shift (M)| 72.023% of Total Sessions|1125 Sessions \n",
      "    ├── M1| 2.561%  |40 Sessions\n",
      "    ├── M2| 31.306% |489 Sessions\n",
      "    │   ├── A1 | 1.793% | 28 Sessions\n",
      "    │   ├── A2 | 5.378% | 84 Sessions\n",
      "    │   └── A3 | 7.234% | 113 Sessions\n",
      "    ├── M3| 10.500% |164 Sessions\n",
      "    │   ├── A2 | 1.793% | 28 Sessions\n",
      "    │   └── A3 | 1.985% | 31 Sessions\n",
      "    └── M4| 27.081% |423 Sessions\n",
      "        ├── A1 | 1.729% | 27 Sessions\n",
      "        ├── A2 | 5.570% | 87 Sessions\n",
      "        └── A3 | 7.810% |  Sessions\n"
     ]
    }
   ],
   "source": [
    "#M1_A1 = Node(\"A1 | 0.128% | 2 Sessions\",parent = M1)\n",
    "#M1_A2 = Node(\"A2 | 0.640% | 10 Sessions\",parent = M1)\n",
    "#M1_A3 = Node(\"A3 | 0.704% | 11 Sessions\",parent = M1)\n",
    "\n",
    "M2_A1 = Node(\"A1 | 1.793% | 28 Sessions\",parent = M2)\n",
    "M2_A2 = Node(\"A2 | 5.378% | 84 Sessions\",parent = M2)\n",
    "M2_A3 = Node(\"A3 | 7.234% | 113 Sessions\",parent = M2)\n",
    "\n",
    "#M3_A1 = Node(\"A1 | 0.768% | 12 Sessions\",parent = M3)\n",
    "M3_A2 = Node(\"A2 | 1.793% | 28 Sessions\",parent = M3)\n",
    "M3_A3 = Node(\"A3 | 1.985% | 31 Sessions\",parent = M3)\n",
    "\n",
    "M4_A1 = Node(\"A1 | 1.729% | 27 Sessions\",parent = M4)\n",
    "M4_A2 = Node(\"A2 | 5.570% | 87 Sessions\",parent = M4)\n",
    "M4_A3 = Node(\"A3 | 7.810% |  Sessions\",parent = M4)\n",
    "\n",
    "for pre, fill, node in RenderTree(allSessions):\n",
    "    print(\"%s%s\" % (pre, node.name))"
   ]
  },
  {
   "cell_type": "code",
   "execution_count": 4,
   "id": "a74762db",
   "metadata": {},
   "outputs": [
    {
     "name": "stdout",
     "output_type": "stream",
     "text": [
      "1562 Total Sessions\n",
      "└── Reward Choice Max Vs Shift (M)| 72.023% of Total Sessions|1125 Sessions \n",
      "    ├── M1| 2.561%  |40 Sessions\n",
      "    ├── M2| 31.306% |489 Sessions\n",
      "    │   ├── A1 | 1.793% | 28 Sessions\n",
      "    │   ├── A2 | 5.378% | 84 Sessions\n",
      "    │   │   └── K3 | 4.546%|71 Sessions\n",
      "    │   └── A3 | 7.234% | 113 Sessions\n",
      "    │       ├── K1 | 5.570%|87 Sessions\n",
      "    │       └── K3 | 1.024%|16 Sessions\n",
      "    ├── M3| 10.500% |164 Sessions\n",
      "    │   ├── A2 | 1.793% | 28 Sessions\n",
      "    │   │   └── K3 | 1.729%|27 Sessions\n",
      "    │   └── A3 | 1.985% | 31 Sessions\n",
      "    │       └── K1 | 1.216%|19 Sessions\n",
      "    └── M4| 27.081% |423 Sessions\n",
      "        ├── A1 | 1.729% | 27 Sessions\n",
      "        ├── A2 | 5.570% | 87 Sessions\n",
      "        │   └── K3 | 4.866%|76 Sessions\n",
      "        └── A3 | 7.810% |  Sessions\n",
      "            └── K1 | 6.530%|102 Sessions\n"
     ]
    }
   ],
   "source": [
    "#M1_A1_K1 = Node(\"K1 | 0.000%|0 Sessions\",parent = M1_A1)\n",
    "#M1_A1_K2 = Node(\"K2 | 0.128%|2 Sessions\",parent = M1_A1)\n",
    "#M1_A1_K3 = Node(\"K3 | 0.000%|0 Sessions\",parent = M1_A1)\n",
    "#M1_A2_K1 = Node(\"K1 | 0.000%| Sessions\",parent = M1_A2)\n",
    "#M1_A2_K2 = Node(\"K2 | 0.064%| Sessions\",parent = M1_A2)\n",
    "#M1_A2_K3 = Node(\"K3 | 0.576%| Sessions\",parent = M1_A2)\n",
    "#M1_A3_K1 = Node(\"K1 | 0.448%|7 Sessions\",parent = M1_A3)\n",
    "#M1_A3_K2 = Node(\"K2 | 0.000%|0 Sessions\",parent = M1_A3)\n",
    "#M1_A3_K3 = Node(\"K3 | 0.128%|2 Sessions\",parent = M1_A3)\n",
    "\n",
    "#M2_A1_K1 = Node(\"K1 | 0.576%|9 Sessions\",parent = M2_A1)\n",
    "#M2_A1_K2 = Node(\"K2 | 0.576%|9 Sessions\",parent = M2_A1)\n",
    "#M2_A1_K3 = Node(\"K3 | 0.2561%|4 Sessions\",parent = M2_A1)\n",
    "#M2_A2_K1 = Node(\"K1 | 0.384%|6 Sessions\",parent = M2_A2)\n",
    "#M2_A2_K2 = Node(\"K2 | 0.256%|4 Sessions\",parent = M2_A2)\n",
    "M2_A2_K3 = Node(\"K3 | 4.546%|71 Sessions\",parent = M2_A2)\n",
    "M2_A3_K1 = Node(\"K1 | 5.570%|87 Sessions\",parent = M2_A3)\n",
    "#M2_A3_K2 = Node(\"K2 | 0.320%|5 Sessions\",parent = M2_A3)\n",
    "M2_A3_K3 = Node(\"K3 | 1.024%|16 Sessions\",parent = M2_A3)\n",
    "\n",
    "#M3_A1_K1 = Node(\"K1 | 0.064%|1 Sessions\",parent = M3_A1)\n",
    "#M3_A1_K2 = Node(\"K2 | 0.192%|3 Sessions\",parent = M3_A1)\n",
    "#M3_A1_K3 = Node(\"K3 | 0.256%|4 Sessions\",parent = M3_A1)\n",
    "#M3_A2_K1 = Node(\"K1 | 0.064%|1 Sessions\",parent = M3_A2)\n",
    "#M3_A2_K2 = Node(\"K2 | 0.000%|0 Sessions\",parent = M3_A2)\n",
    "M3_A2_K3 = Node(\"K3 | 1.729%|27 Sessions\",parent = M3_A2)\n",
    "M3_A3_K1 = Node(\"K1 | 1.216%|19 Sessions\",parent = M3_A3)\n",
    "#M3_A3_K2 = Node(\"K2 | 0.320%|5 Sessions\",parent = M3_A3)\n",
    "#M3_A3_K3 = Node(\"K3 | 0.256%|4 Sessions\",parent = M3_A3)\n",
    "\n",
    "#M4_A1_K1 = Node(\"K1 | 0.704%|11 Sessions\",parent = M4_A1)\n",
    "#M4_A1_K2 = Node(\"K2 | 0.256%|4 Sessions\",parent = M4_A1)\n",
    "#M4_A1_K3 = Node(\"K3 | 0.512%|8 Sessions\",parent = M4_A1)\n",
    "#M4_A2_K1 = Node(\"K1 | 0.512%|8 Sessions\",parent = M4_A2)\n",
    "#M4_A2_K2 = Node(\"K2 | 0.192%|3 Sessions\",parent = M4_A2)\n",
    "M4_A2_K3 = Node(\"K3 | 4.866%|76 Sessions\",parent = M4_A2)\n",
    "M4_A3_K1 = Node(\"K1 | 6.530%|102 Sessions\",parent = M4_A3)\n",
    "#M4_A3_K2 = Node(\"K2 | 0.384%|6 Sessions\",parent = M4_A3)\n",
    "#M4_A3_K3 = Node(\"K3 | 0.5762%|9 Sessions\",parent = M4_A3)\n",
    "\n",
    "\n",
    "for pre, fill, node in RenderTree(allSessions):\n",
    "    print(\"%s%s\" % (pre, node.name))"
   ]
  },
  {
   "cell_type": "code",
   "execution_count": 5,
   "id": "65b5a272",
   "metadata": {},
   "outputs": [
    {
     "name": "stdout",
     "output_type": "stream",
     "text": [
      "1562 Total Sessions\n",
      "└── Reward Choice Max Vs Shift (M)| 72.023% of Total Sessions|1125 Sessions \n",
      "    ├── M1| 2.561%  |40 Sessions\n",
      "    ├── M2| 31.306% |489 Sessions\n",
      "    │   ├── A1 | 1.793% | 28 Sessions\n",
      "    │   ├── A2 | 5.378% | 84 Sessions\n",
      "    │   │   └── K3 | 4.546%|71 Sessions\n",
      "    │   │       └── H3 | 1.600%|25 Sessions\n",
      "    │   └── A3 | 7.234% | 113 Sessions\n",
      "    │       ├── K1 | 5.570%|87 Sessions\n",
      "    │       │   └── H3 |2.049%|32 Sessions\n",
      "    │       └── K3 | 1.024%|16 Sessions\n",
      "    ├── M3| 10.500% |164 Sessions\n",
      "    │   ├── A2 | 1.793% | 28 Sessions\n",
      "    │   │   └── K3 | 1.729%|27 Sessions\n",
      "    │   └── A3 | 1.985% | 31 Sessions\n",
      "    │       └── K1 | 1.216%|19 Sessions\n",
      "    └── M4| 27.081% |423 Sessions\n",
      "        ├── A1 | 1.729% | 27 Sessions\n",
      "        ├── A2 | 5.570% | 87 Sessions\n",
      "        │   └── K3 | 4.866%|76 Sessions\n",
      "        │       └── H3|2.433%|38 Sessions\n",
      "        └── A3 | 7.810% |  Sessions\n",
      "            └── K1 | 6.530%|102 Sessions\n",
      "                └── H3|2.432%|38 Sessions\n"
     ]
    }
   ],
   "source": [
    "#M2_A2_K3_H1 = Node(\"H1 |0.640%|10 Sessions\",parent = M2_A2_K3)\n",
    "#M2_A2_K3_H2 = Node(\"H | %|0 Sessions\",parent = M2_A2_K3)\n",
    "M2_A2_K3_H3 = Node(\"H3 | 1.600%|25 Sessions\",parent = M2_A2_K3)\n",
    "#M2_A2_K3_H4 = Node(\"H | %|5 Sessions\",parent = M2_A2_K3)\n",
    "\n",
    "#M2_A3_K1_H1 = Node(\"H1 |0.448%|7 Sessions\",parent = M2_A3_K1)\n",
    "#M2_A3_K1_H2 = Node(\"H2 |0.064%|1 Sessions\",parent = M2_A3_K1)\n",
    "M2_A3_K1_H3 = Node(\"H3 |2.049%|32 Sessions\",parent = M2_A3_K1)\n",
    "#M2_A3_K1_H4 = Node(\"H4 |0.704%|11 Sessions\",parent = M2_A3_K1)\n",
    "\n",
    "#M4_A2_K3_H1 = Node(\"H1|0.320%|5 Sessions\",parent = M4_A2_K3)\n",
    "#M4_A2_K3_H2 = Node(\"H2|0.064%|1 Sessions\",parent = M4_A2_K3)\n",
    "M4_A2_K3_H3 = Node(\"H3|2.433%|38 Sessions\",parent = M4_A2_K3)\n",
    "#M4_A2_K3_H4 = Node(\"H4|0.384%|6 Sessions\",parent = M4_A2_K3)\n",
    "\n",
    "#M4_A3_K1_H1 = Node(\"H1|0.320%|5 Sessions\",parent = M4_A3_K1)\n",
    "#M4_A3_K1_H2 = Node(\"H2|0.064%|1 Sessions\",parent = M4_A3_K1)\n",
    "M4_A3_K1_H3 = Node(\"H3|2.432%|38 Sessions\",parent = M4_A3_K1)\n",
    "#M4_A3_K1_H4 = Node(\"H4|0.640%|10 Sessions\",parent = M4_A3_K1)\n",
    "\n",
    "for pre, fill, node in RenderTree(allSessions):\n",
    "    print(\"%s%s\" % (pre, node.name))"
   ]
  },
  {
   "cell_type": "code",
   "execution_count": 6,
   "id": "2c1cb9a7",
   "metadata": {},
   "outputs": [
    {
     "name": "stdout",
     "output_type": "stream",
     "text": [
      "1562 Total Sessions\n",
      "├── Reward Choice Max Vs Shift (M)| 72.023% of Total Sessions|1125 Sessions \n",
      "│   ├── M1| 2.561%  |40 Sessions\n",
      "│   ├── M2| 31.306% |489 Sessions\n",
      "│   │   ├── A1 | 1.793% | 28 Sessions\n",
      "│   │   ├── A2 | 5.378% | 84 Sessions\n",
      "│   │   │   └── K3 | 4.546%|71 Sessions\n",
      "│   │   │       └── H3 | 1.600%|25 Sessions\n",
      "│   │   └── A3 | 7.234% | 113 Sessions\n",
      "│   │       ├── K1 | 5.570%|87 Sessions\n",
      "│   │       │   └── H3 |2.049%|32 Sessions\n",
      "│   │       └── K3 | 1.024%|16 Sessions\n",
      "│   ├── M3| 10.500% |164 Sessions\n",
      "│   │   ├── A2 | 1.793% | 28 Sessions\n",
      "│   │   │   └── K3 | 1.729%|27 Sessions\n",
      "│   │   └── A3 | 1.985% | 31 Sessions\n",
      "│   │       └── K1 | 1.216%|19 Sessions\n",
      "│   └── M4| 27.081% |423 Sessions\n",
      "│       ├── A1 | 1.729% | 27 Sessions\n",
      "│       ├── A2 | 5.570% | 87 Sessions\n",
      "│       │   └── K3 | 4.866%|76 Sessions\n",
      "│       │       └── H3|2.433%|38 Sessions\n",
      "│       └── A3 | 7.810% |  Sessions\n",
      "│           └── K1 | 6.530%|102 Sessions\n",
      "│               └── H3|2.432%|38 Sessions\n",
      "└── Travel Pixel Max Vs Shift (A)| 21.38% of Total Sessions|334 Sessions Not in M\n",
      "    ├── A1|  3.009% |47 Sessions\n",
      "    ├── A2| 10.051% |157 Sessions\n",
      "    └── A3| 8.5147% |133 Sessions\n"
     ]
    }
   ],
   "source": [
    "A = Node(\"Travel Pixel Max Vs Shift (A)| 21.38% of Total Sessions|334 Sessions Not in M\",parent=allSessions)\n",
    "\n",
    "A1 = Node(\"A1|  3.009% |47 Sessions\", parent=A)\n",
    "A2 = Node(\"A2| 10.051% |157 Sessions\", parent=A)\n",
    "A3 = Node(\"A3| 8.5147% |133 Sessions\", parent=A)\n",
    "\n",
    "for pre, fill, node in RenderTree(allSessions):\n",
    "    print(\"%s%s\" % (pre, node.name))"
   ]
  },
  {
   "cell_type": "code",
   "execution_count": 7,
   "id": "72b80112",
   "metadata": {},
   "outputs": [
    {
     "name": "stdout",
     "output_type": "stream",
     "text": [
      "1562 Total Sessions\n",
      "├── Reward Choice Max Vs Shift (M)| 72.023% of Total Sessions|1125 Sessions \n",
      "│   ├── M1| 2.561%  |40 Sessions\n",
      "│   ├── M2| 31.306% |489 Sessions\n",
      "│   │   ├── A1 | 1.793% | 28 Sessions\n",
      "│   │   ├── A2 | 5.378% | 84 Sessions\n",
      "│   │   │   └── K3 | 4.546%|71 Sessions\n",
      "│   │   │       └── H3 | 1.600%|25 Sessions\n",
      "│   │   └── A3 | 7.234% | 113 Sessions\n",
      "│   │       ├── K1 | 5.570%|87 Sessions\n",
      "│   │       │   └── H3 |2.049%|32 Sessions\n",
      "│   │       └── K3 | 1.024%|16 Sessions\n",
      "│   ├── M3| 10.500% |164 Sessions\n",
      "│   │   ├── A2 | 1.793% | 28 Sessions\n",
      "│   │   │   └── K3 | 1.729%|27 Sessions\n",
      "│   │   └── A3 | 1.985% | 31 Sessions\n",
      "│   │       └── K1 | 1.216%|19 Sessions\n",
      "│   └── M4| 27.081% |423 Sessions\n",
      "│       ├── A1 | 1.729% | 27 Sessions\n",
      "│       ├── A2 | 5.570% | 87 Sessions\n",
      "│       │   └── K3 | 4.866%|76 Sessions\n",
      "│       │       └── H3|2.433%|38 Sessions\n",
      "│       └── A3 | 7.810% |  Sessions\n",
      "│           └── K1 | 6.530%|102 Sessions\n",
      "│               └── H3|2.432%|38 Sessions\n",
      "└── Travel Pixel Max Vs Shift (A)| 21.38% of Total Sessions|334 Sessions Not in M\n",
      "    ├── A1|  3.009% |47 Sessions\n",
      "    │   └── D2|1.857%|29 Sessions\n",
      "    ├── A2| 10.051% |157 Sessions\n",
      "    │   └── D2|3.457%|54 Sessions\n",
      "    └── A3| 8.5147% |133 Sessions\n",
      "        └── D2|2.689%|42 Sessions\n"
     ]
    }
   ],
   "source": [
    "#A1_D1 = Node(\"D1|0.192%|3 Sessions\",parent = A1)\n",
    "A1_D2 = Node(\"D2|1.857%|29 Sessions\",parent = A1)\n",
    "#A1_D3 = Node(\"D3|0.256%|4 Sessions\",parent = A1)\n",
    "\n",
    "#A2_D1 = Node(\"D1|0.512%|8 Sessions\",parent = A2)\n",
    "A2_D2 = Node(\"D2|3.457%|54 Sessions\",parent = A2)\n",
    "#A2_D3 = Node(\"D3|0.832%|13 Sessions\",parent = A2)\n",
    "\n",
    "#A3_D1 = Node(\"D1|0.448%|7 Sessions\",parent = A3)\n",
    "A3_D2 = Node(\"D2|2.689%|42 Sessions\",parent = A3)\n",
    "#A3_D3 = Node(\"D3|0.640%|10 Sessions\",parent = A3)\n",
    "\n",
    "for pre, fill, node in RenderTree(allSessions):\n",
    "    print(\"%s%s\" % (pre, node.name))"
   ]
  },
  {
   "cell_type": "code",
   "execution_count": 8,
   "id": "65d8f5f2",
   "metadata": {},
   "outputs": [
    {
     "name": "stdout",
     "output_type": "stream",
     "text": [
      "1562 Total Sessions\n",
      "├── Reward Choice Max Vs Shift (M)| 72.023% of Total Sessions|1125 Sessions \n",
      "│   ├── M1| 2.561%  |40 Sessions\n",
      "│   ├── M2| 31.306% |489 Sessions\n",
      "│   │   ├── A1 | 1.793% | 28 Sessions\n",
      "│   │   ├── A2 | 5.378% | 84 Sessions\n",
      "│   │   │   └── K3 | 4.546%|71 Sessions\n",
      "│   │   │       └── H3 | 1.600%|25 Sessions\n",
      "│   │   └── A3 | 7.234% | 113 Sessions\n",
      "│   │       ├── K1 | 5.570%|87 Sessions\n",
      "│   │       │   └── H3 |2.049%|32 Sessions\n",
      "│   │       └── K3 | 1.024%|16 Sessions\n",
      "│   ├── M3| 10.500% |164 Sessions\n",
      "│   │   ├── A2 | 1.793% | 28 Sessions\n",
      "│   │   │   └── K3 | 1.729%|27 Sessions\n",
      "│   │   └── A3 | 1.985% | 31 Sessions\n",
      "│   │       └── K1 | 1.216%|19 Sessions\n",
      "│   └── M4| 27.081% |423 Sessions\n",
      "│       ├── A1 | 1.729% | 27 Sessions\n",
      "│       ├── A2 | 5.570% | 87 Sessions\n",
      "│       │   └── K3 | 4.866%|76 Sessions\n",
      "│       │       └── H3|2.433%|38 Sessions\n",
      "│       └── A3 | 7.810% |  Sessions\n",
      "│           └── K1 | 6.530%|102 Sessions\n",
      "│               └── H3|2.432%|38 Sessions\n",
      "└── Travel Pixel Max Vs Shift (A)| 21.38% of Total Sessions|334 Sessions Not in M\n",
      "    ├── A1|  3.009% |47 Sessions\n",
      "    │   └── D2|1.857%|29 Sessions\n",
      "    ├── A2| 10.051% |157 Sessions\n",
      "    │   └── D2|3.457%|54 Sessions\n",
      "    └── A3| 8.5147% |133 Sessions\n",
      "        └── D2|2.689%|42 Sessions\n"
     ]
    }
   ],
   "source": [
    "#A1_D2_H1 = Node(\"H1|0.128%|2 Sessions\",parent =A1_D2)\n",
    "#A1_D2_H2 = Node(\"H2|0.064%|1 Sessions\",parent =A1_D2)\n",
    "#A1_D2_H3 = Node(\"H3|0.896%|14 Sessions\",parent =A1_D2)\n",
    "#A1_D2_H4 = Node(\"H4|0.064%|1 Sessions\",parent =A1_D2)\n",
    "\n",
    "#A2_D2_H1 = Node(\"H1|0.320%|5 Sessions\",parent =A2_D2)\n",
    "#A2_D2_H2 = Node(\"H2|0.640%|1 Sessions\",parent =A2_D2)\n",
    "#A2_D2_H3 = Node(\"H3|1.665%|26 Sessions\",parent =A2_D2)\n",
    "#A2_D2_H4 = Node(\"H4|0.256%|4Sessions\",parent =A2_D2)\n",
    "\n",
    "#A3_D2_H1 = Node(\"H1|0.256%|4 Sessions\",parent =A3_D2)\n",
    "#A3_D2_H2 = Node(\"H2|0.000%|0 Sessions\",parent =A3_D2)\n",
    "#A3_D2_H3 = Node(\"H3|1.216%|19 Sessions\",parent =A3_D2)\n",
    "#A3_D2_H4 = Node(\"H4|0.320%|5 Sessions\",parent =A3_D2)\n",
    "\n",
    "for pre, fill, node in RenderTree(allSessions):\n",
    "    print(\"%s%s\" % (pre, node.name))"
   ]
  },
  {
   "cell_type": "code",
   "execution_count": 9,
   "id": "a79ef794",
   "metadata": {},
   "outputs": [
    {
     "name": "stdout",
     "output_type": "stream",
     "text": [
      "1562 Total Sessions\n",
      "├── Reward Choice Max Vs Shift (M)| 72.023% of Total Sessions|1125 Sessions \n",
      "│   ├── M1| 2.561%  |40 Sessions\n",
      "│   ├── M2| 31.306% |489 Sessions\n",
      "│   │   ├── A1 | 1.793% | 28 Sessions\n",
      "│   │   ├── A2 | 5.378% | 84 Sessions\n",
      "│   │   │   └── K3 | 4.546%|71 Sessions\n",
      "│   │   │       └── H3 | 1.600%|25 Sessions\n",
      "│   │   └── A3 | 7.234% | 113 Sessions\n",
      "│   │       ├── K1 | 5.570%|87 Sessions\n",
      "│   │       │   └── H3 |2.049%|32 Sessions\n",
      "│   │       └── K3 | 1.024%|16 Sessions\n",
      "│   ├── M3| 10.500% |164 Sessions\n",
      "│   │   ├── A2 | 1.793% | 28 Sessions\n",
      "│   │   │   └── K3 | 1.729%|27 Sessions\n",
      "│   │   └── A3 | 1.985% | 31 Sessions\n",
      "│   │       └── K1 | 1.216%|19 Sessions\n",
      "│   └── M4| 27.081% |423 Sessions\n",
      "│       ├── A1 | 1.729% | 27 Sessions\n",
      "│       ├── A2 | 5.570% | 87 Sessions\n",
      "│       │   └── K3 | 4.866%|76 Sessions\n",
      "│       │       └── H3|2.433%|38 Sessions\n",
      "│       └── A3 | 7.810% |  Sessions\n",
      "│           └── K1 | 6.530%|102 Sessions\n",
      "│               └── H3|2.432%|38 Sessions\n",
      "└── Travel Pixel Max Vs Shift (A)| 21.38% of Total Sessions|334 Sessions Not in M\n",
      "    ├── A1|  3.009% |47 Sessions\n",
      "    │   ├── D2|1.857%|29 Sessions\n",
      "    │   └── H3|1.152%|18 Sessions\n",
      "    ├── A2| 10.051% |157 Sessions\n",
      "    │   ├── D2|3.457%|54 Sessions\n",
      "    │   ├── H1|1.152%|18 Sessions\n",
      "    │   └── H3|4.225%|66 Sessions\n",
      "    └── A3| 8.5147% |133 Sessions\n",
      "        ├── D2|2.689%|42 Sessions\n",
      "        └── H3|3.905%|61 Sessions\n"
     ]
    }
   ],
   "source": [
    "#A1_H1 = Node(\"H1|0.256%|4 Sessions\",parent = A1)\n",
    "#A1_H2 = Node(\"H2|0.064%|1 Sessions\",parent = A1)\n",
    "A1_H3 = Node(\"H3|1.152%|18 Sessions\",parent = A1)\n",
    "#A1_H4 = Node(\"H4|0.192%|3 Sessions\",parent = A)\n",
    "\n",
    "A2_H1 = Node(\"H1|1.152%|18 Sessions\",parent = A2)\n",
    "#A2_H2 = Node(\"H2|0.320%|5 Sessions\",parent = A2)\n",
    "A2_H3 = Node(\"H3|4.225%|66 Sessions\",parent = A2)\n",
    "#A2_H4 = Node(\"H4|0.512%|8 Sessions\",parent = A2)\n",
    "\n",
    "#A3_H1 = Node(\"H1|0.640%|10 Sessions\",parent = A3)\n",
    "#A3_H2 = Node(\"H2|0.128%|2 Sessions\",parent = A3)\n",
    "A3_H3 = Node(\"H3|3.905%|61 Sessions\",parent = A3)\n",
    "#A3_H4 = Node(\"H4|0.704%|11 Sessions\",parent = A3)\n",
    "\n",
    "for pre, fill, node in RenderTree(allSessions):\n",
    "    print(\"%s%s\" % (pre, node.name))"
   ]
  },
  {
   "cell_type": "code",
   "execution_count": 12,
   "id": "2cda0b8c",
   "metadata": {},
   "outputs": [
    {
     "ename": "FileNotFoundError",
     "evalue": "[WinError 2] The system cannot find the file specified",
     "output_type": "error",
     "traceback": [
      "\u001b[1;31m---------------------------------------------------------------------------\u001b[0m",
      "\u001b[1;31mFileNotFoundError\u001b[0m                         Traceback (most recent call last)",
      "\u001b[1;32m~\\AppData\\Local\\Temp\\ipykernel_44168\\3782083431.py\u001b[0m in \u001b[0;36m<module>\u001b[1;34m\u001b[0m\n\u001b[1;32m----> 1\u001b[1;33m \u001b[0mDotExporter\u001b[0m\u001b[1;33m(\u001b[0m\u001b[0mallSessions\u001b[0m\u001b[1;33m)\u001b[0m\u001b[1;33m.\u001b[0m\u001b[0mto_picture\u001b[0m\u001b[1;33m(\u001b[0m\u001b[1;34m\"tree.png\"\u001b[0m\u001b[1;33m)\u001b[0m\u001b[1;33m\u001b[0m\u001b[1;33m\u001b[0m\u001b[0m\n\u001b[0m",
      "\u001b[1;32m~\\anaconda3\\envs\\machineLearning\\lib\\site-packages\\anytree\\exporter\\dotexporter.py\u001b[0m in \u001b[0;36mto_picture\u001b[1;34m(self, filename)\u001b[0m\n\u001b[0;32m    270\u001b[0m             \u001b[0mdotfile\u001b[0m\u001b[1;33m.\u001b[0m\u001b[0mflush\u001b[0m\u001b[1;33m(\u001b[0m\u001b[1;33m)\u001b[0m\u001b[1;33m\u001b[0m\u001b[1;33m\u001b[0m\u001b[0m\n\u001b[0;32m    271\u001b[0m             \u001b[0mcmd\u001b[0m \u001b[1;33m=\u001b[0m \u001b[1;33m[\u001b[0m\u001b[1;34m\"dot\"\u001b[0m\u001b[1;33m,\u001b[0m \u001b[0mdotfilename\u001b[0m\u001b[1;33m,\u001b[0m \u001b[1;34m\"-T\"\u001b[0m\u001b[1;33m,\u001b[0m \u001b[0mfileformat\u001b[0m\u001b[1;33m,\u001b[0m \u001b[1;34m\"-o\"\u001b[0m\u001b[1;33m,\u001b[0m \u001b[0mfilename\u001b[0m\u001b[1;33m]\u001b[0m\u001b[1;33m\u001b[0m\u001b[1;33m\u001b[0m\u001b[0m\n\u001b[1;32m--> 272\u001b[1;33m             \u001b[0mcheck_call\u001b[0m\u001b[1;33m(\u001b[0m\u001b[0mcmd\u001b[0m\u001b[1;33m)\u001b[0m\u001b[1;33m\u001b[0m\u001b[1;33m\u001b[0m\u001b[0m\n\u001b[0m\u001b[0;32m    273\u001b[0m         \u001b[1;32mtry\u001b[0m\u001b[1;33m:\u001b[0m\u001b[1;33m\u001b[0m\u001b[1;33m\u001b[0m\u001b[0m\n\u001b[0;32m    274\u001b[0m             \u001b[0mremove\u001b[0m\u001b[1;33m(\u001b[0m\u001b[0mdotfilename\u001b[0m\u001b[1;33m)\u001b[0m\u001b[1;33m\u001b[0m\u001b[1;33m\u001b[0m\u001b[0m\n",
      "\u001b[1;32m~\\anaconda3\\envs\\machineLearning\\lib\\subprocess.py\u001b[0m in \u001b[0;36mcheck_call\u001b[1;34m(*popenargs, **kwargs)\u001b[0m\n\u001b[0;32m    356\u001b[0m     \u001b[0mcheck_call\u001b[0m\u001b[1;33m(\u001b[0m\u001b[1;33m[\u001b[0m\u001b[1;34m\"ls\"\u001b[0m\u001b[1;33m,\u001b[0m \u001b[1;34m\"-l\"\u001b[0m\u001b[1;33m]\u001b[0m\u001b[1;33m)\u001b[0m\u001b[1;33m\u001b[0m\u001b[1;33m\u001b[0m\u001b[0m\n\u001b[0;32m    357\u001b[0m     \"\"\"\n\u001b[1;32m--> 358\u001b[1;33m     \u001b[0mretcode\u001b[0m \u001b[1;33m=\u001b[0m \u001b[0mcall\u001b[0m\u001b[1;33m(\u001b[0m\u001b[1;33m*\u001b[0m\u001b[0mpopenargs\u001b[0m\u001b[1;33m,\u001b[0m \u001b[1;33m**\u001b[0m\u001b[0mkwargs\u001b[0m\u001b[1;33m)\u001b[0m\u001b[1;33m\u001b[0m\u001b[1;33m\u001b[0m\u001b[0m\n\u001b[0m\u001b[0;32m    359\u001b[0m     \u001b[1;32mif\u001b[0m \u001b[0mretcode\u001b[0m\u001b[1;33m:\u001b[0m\u001b[1;33m\u001b[0m\u001b[1;33m\u001b[0m\u001b[0m\n\u001b[0;32m    360\u001b[0m         \u001b[0mcmd\u001b[0m \u001b[1;33m=\u001b[0m \u001b[0mkwargs\u001b[0m\u001b[1;33m.\u001b[0m\u001b[0mget\u001b[0m\u001b[1;33m(\u001b[0m\u001b[1;34m\"args\"\u001b[0m\u001b[1;33m)\u001b[0m\u001b[1;33m\u001b[0m\u001b[1;33m\u001b[0m\u001b[0m\n",
      "\u001b[1;32m~\\anaconda3\\envs\\machineLearning\\lib\\subprocess.py\u001b[0m in \u001b[0;36mcall\u001b[1;34m(timeout, *popenargs, **kwargs)\u001b[0m\n\u001b[0;32m    337\u001b[0m     \u001b[0mretcode\u001b[0m \u001b[1;33m=\u001b[0m \u001b[0mcall\u001b[0m\u001b[1;33m(\u001b[0m\u001b[1;33m[\u001b[0m\u001b[1;34m\"ls\"\u001b[0m\u001b[1;33m,\u001b[0m \u001b[1;34m\"-l\"\u001b[0m\u001b[1;33m]\u001b[0m\u001b[1;33m)\u001b[0m\u001b[1;33m\u001b[0m\u001b[1;33m\u001b[0m\u001b[0m\n\u001b[0;32m    338\u001b[0m     \"\"\"\n\u001b[1;32m--> 339\u001b[1;33m     \u001b[1;32mwith\u001b[0m \u001b[0mPopen\u001b[0m\u001b[1;33m(\u001b[0m\u001b[1;33m*\u001b[0m\u001b[0mpopenargs\u001b[0m\u001b[1;33m,\u001b[0m \u001b[1;33m**\u001b[0m\u001b[0mkwargs\u001b[0m\u001b[1;33m)\u001b[0m \u001b[1;32mas\u001b[0m \u001b[0mp\u001b[0m\u001b[1;33m:\u001b[0m\u001b[1;33m\u001b[0m\u001b[1;33m\u001b[0m\u001b[0m\n\u001b[0m\u001b[0;32m    340\u001b[0m         \u001b[1;32mtry\u001b[0m\u001b[1;33m:\u001b[0m\u001b[1;33m\u001b[0m\u001b[1;33m\u001b[0m\u001b[0m\n\u001b[0;32m    341\u001b[0m             \u001b[1;32mreturn\u001b[0m \u001b[0mp\u001b[0m\u001b[1;33m.\u001b[0m\u001b[0mwait\u001b[0m\u001b[1;33m(\u001b[0m\u001b[0mtimeout\u001b[0m\u001b[1;33m=\u001b[0m\u001b[0mtimeout\u001b[0m\u001b[1;33m)\u001b[0m\u001b[1;33m\u001b[0m\u001b[1;33m\u001b[0m\u001b[0m\n",
      "\u001b[1;32m~\\anaconda3\\envs\\machineLearning\\lib\\subprocess.py\u001b[0m in \u001b[0;36m__init__\u001b[1;34m(self, args, bufsize, executable, stdin, stdout, stderr, preexec_fn, close_fds, shell, cwd, env, universal_newlines, startupinfo, creationflags, restore_signals, start_new_session, pass_fds, encoding, errors, text)\u001b[0m\n\u001b[0;32m    798\u001b[0m                                 \u001b[0mc2pread\u001b[0m\u001b[1;33m,\u001b[0m \u001b[0mc2pwrite\u001b[0m\u001b[1;33m,\u001b[0m\u001b[1;33m\u001b[0m\u001b[1;33m\u001b[0m\u001b[0m\n\u001b[0;32m    799\u001b[0m                                 \u001b[0merrread\u001b[0m\u001b[1;33m,\u001b[0m \u001b[0merrwrite\u001b[0m\u001b[1;33m,\u001b[0m\u001b[1;33m\u001b[0m\u001b[1;33m\u001b[0m\u001b[0m\n\u001b[1;32m--> 800\u001b[1;33m                                 restore_signals, start_new_session)\n\u001b[0m\u001b[0;32m    801\u001b[0m         \u001b[1;32mexcept\u001b[0m\u001b[1;33m:\u001b[0m\u001b[1;33m\u001b[0m\u001b[1;33m\u001b[0m\u001b[0m\n\u001b[0;32m    802\u001b[0m             \u001b[1;31m# Cleanup if the child failed starting.\u001b[0m\u001b[1;33m\u001b[0m\u001b[1;33m\u001b[0m\u001b[1;33m\u001b[0m\u001b[0m\n",
      "\u001b[1;32m~\\anaconda3\\envs\\machineLearning\\lib\\subprocess.py\u001b[0m in \u001b[0;36m_execute_child\u001b[1;34m(self, args, executable, preexec_fn, close_fds, pass_fds, cwd, env, startupinfo, creationflags, shell, p2cread, p2cwrite, c2pread, c2pwrite, errread, errwrite, unused_restore_signals, unused_start_new_session)\u001b[0m\n\u001b[0;32m   1205\u001b[0m                                          \u001b[0menv\u001b[0m\u001b[1;33m,\u001b[0m\u001b[1;33m\u001b[0m\u001b[1;33m\u001b[0m\u001b[0m\n\u001b[0;32m   1206\u001b[0m                                          \u001b[0mos\u001b[0m\u001b[1;33m.\u001b[0m\u001b[0mfspath\u001b[0m\u001b[1;33m(\u001b[0m\u001b[0mcwd\u001b[0m\u001b[1;33m)\u001b[0m \u001b[1;32mif\u001b[0m \u001b[0mcwd\u001b[0m \u001b[1;32mis\u001b[0m \u001b[1;32mnot\u001b[0m \u001b[1;32mNone\u001b[0m \u001b[1;32melse\u001b[0m \u001b[1;32mNone\u001b[0m\u001b[1;33m,\u001b[0m\u001b[1;33m\u001b[0m\u001b[1;33m\u001b[0m\u001b[0m\n\u001b[1;32m-> 1207\u001b[1;33m                                          startupinfo)\n\u001b[0m\u001b[0;32m   1208\u001b[0m             \u001b[1;32mfinally\u001b[0m\u001b[1;33m:\u001b[0m\u001b[1;33m\u001b[0m\u001b[1;33m\u001b[0m\u001b[0m\n\u001b[0;32m   1209\u001b[0m                 \u001b[1;31m# Child is launched. Close the parent's copy of those pipe\u001b[0m\u001b[1;33m\u001b[0m\u001b[1;33m\u001b[0m\u001b[1;33m\u001b[0m\u001b[0m\n",
      "\u001b[1;31mFileNotFoundError\u001b[0m: [WinError 2] The system cannot find the file specified"
     ]
    }
   ],
   "source": [
    "DotExporter(allSessions).to_picture(\"tree.png\")"
   ]
  },
  {
   "cell_type": "code",
   "execution_count": null,
   "id": "9848fe13",
   "metadata": {},
   "outputs": [],
   "source": []
  }
 ],
 "metadata": {
  "kernelspec": {
   "display_name": "Python 3 (ipykernel)",
   "language": "python",
   "name": "python3"
  },
  "language_info": {
   "codemirror_mode": {
    "name": "ipython",
    "version": 3
   },
   "file_extension": ".py",
   "mimetype": "text/x-python",
   "name": "python",
   "nbconvert_exporter": "python",
   "pygments_lexer": "ipython3",
   "version": "3.7.13"
  }
 },
 "nbformat": 4,
 "nbformat_minor": 5
}
