{
 "cells": [
  {
   "cell_type": "markdown",
   "id": "b219ca26",
   "metadata": {},
   "source": [
    "H1E1 = Node(\"E1: 10 Unique Lables\",parent = H1)\n",
    "H1E2 = Node(\"E2: 35 Unique Lables\",parent = H1)\n",
    "H1E3 = Node(\"E3: 4 Unique Lables\",parent = H1)\n",
    "H1E4 = Node(\"E4: 5 Unique Lables\",parent = H1)\n",
    "#############################################\n",
    "H2E1 = Node(\"E1: 1 Unique Lables\",parent = H2)\n",
    "H2E2 = Node(\"E2: 8 Unique Lables\",parent = H2)\n",
    "H2E3 = Node(\"E3: 1 Unique Lables\",parent = H2)\n",
    "H2E4 = Node(\"E4: 0 Unique Lables\",parent = H2)\n",
    "#############################################\n",
    "H3E1 = Node(\"E1: 30 Unique Lables\",parent = H3)\n",
    "H3E2 = Node(\"E2: 170 Unique Lables\",parent = H3)\n",
    "H3E3 = Node(\"E3: 26 Unique Lables\",parent = H3)\n",
    "H3E4 = Node(\"E4: 21 Unique Lables\",parent = H3)\n",
    "#############################################\n",
    "H4E1 = Node(\"E1: 4 Unique Lables\",parent = H4)\n",
    "H4E2 = Node(\"E2: 31 Unique Lables\",parent = H4)\n",
    "H4E3 = Node(\"E3: 2 Unique Lables\",parent = H4)\n",
    "H4E4 = Node(\"E4: 5 Unique Lables\",parent = H4)\n",
    "#############################################\n",
    "for pre, fill, node in RenderTree(root):\n",
    "    print(\"%s%s\" % (pre, node.name))"
   ]
  },
  {
   "cell_type": "code",
   "execution_count": 1,
   "id": "e7ca9c70",
   "metadata": {},
   "outputs": [],
   "source": [
    "from anytree import Node, RenderTree"
   ]
  },
  {
   "cell_type": "code",
   "execution_count": 2,
   "id": "baa3f2ad",
   "metadata": {},
   "outputs": [],
   "source": [
    "root = Node(\"H: 695\")\n",
    "\n",
    "H1 = Node(\"H1: 102\", parent=root)\n",
    "H2 = Node(\"H2: 18\", parent=root)\n",
    "H3 = Node(\"H3: 493\", parent=root)\n",
    "H4 = Node(\"H4: 82\", parent=root)\n",
    "\n",
    "\n",
    "#for pre, fill, node in RenderTree(root):\n",
    "#    print(\"%s%s\" % (pre, node.name))"
   ]
  },
  {
   "cell_type": "code",
   "execution_count": 3,
   "id": "40a21134",
   "metadata": {},
   "outputs": [],
   "source": [
    "H1_N1 = Node(\"N1: 27\",parent = H1)\n",
    "#H1N2 = Node(\"N2: 2 Unique Lables\",parent = H1)\n",
    "H1_N3 = Node(\"N3: 30\",parent = H1)\n",
    "#############################################\n",
    "#H2N1 = Node(\"N1: 7 Unique Lables\",parent = H2)\n",
    "#H2N2 = Node(\"N2: 0 Unique Lables\",parent = H2)\n",
    "#H2N3 = Node(\"N3: 2 Unique Lables\",parent = H2)\n",
    "#############################################\n",
    "H3_N1 = Node(\"N1: 160\",parent = H3)\n",
    "#H3N2 = Node(\"N2: 18 Unique Lables\",parent = H3)\n",
    "H3_N3 = Node(\"N3: 112\",parent = H3)\n",
    "#############################################\n",
    "H4_N1 = Node(\"N1: 23\",parent = H4)\n",
    "#H4N2 = Node(\"N2: 0 Unique Lables\",parent = H4)\n",
    "H4_N3 = Node(\"N3: 24\",parent = H4)\n",
    "#############################################\n",
    "#for pre, fill, node in RenderTree(root):\n",
    "#    print(\"%s%s\" % (pre, node.name))"
   ]
  },
  {
   "cell_type": "code",
   "execution_count": 4,
   "id": "32dd1fdd",
   "metadata": {},
   "outputs": [],
   "source": [
    "H3_N1_K1 = Node(\"K1: 55 \",parent = H3_N1)\n",
    "H3_N1_K3 = Node(\"K2: 12 \",parent = H3_N1)\n",
    "H3_N1_K3 = Node(\"K3: 59 \",parent = H3_N1)\n",
    "\n",
    "H3_N3_K1 = Node(\"K1: 41 \",parent = H3_N3)\n",
    "H3_N3_K3 = Node(\"K2: 8 \",parent = H3_N3)\n",
    "H3_N3_K3 = Node(\"K3: 3 \",parent = H3_N3)\n",
    "\n",
    "#for pre, fill, node in RenderTree(root):\n",
    "#    print(\"%s%s\" % (pre, node.name))"
   ]
  },
  {
   "cell_type": "code",
   "execution_count": 5,
   "id": "dc64c2e1",
   "metadata": {},
   "outputs": [
    {
     "name": "stdout",
     "output_type": "stream",
     "text": [
      "H: 695\n",
      "├── H1: 102\n",
      "│   ├── N1: 27\n",
      "│   └── N3: 30\n",
      "├── H2: 18\n",
      "├── H3: 493\n",
      "│   ├── N1: 160\n",
      "│   │   ├── K1: 55 \n",
      "│   │   │   ├── A3: 48\n",
      "│   │   │   └── A2: 50\n",
      "│   │   ├── K2: 12 \n",
      "│   │   └── K3: 59 \n",
      "│   └── N3: 112\n",
      "│       ├── K1: 41 \n",
      "│       │   └── A3: 32\n",
      "│       ├── K2: 8 \n",
      "│       └── K3: 3 \n",
      "└── H4: 82\n",
      "    ├── N1: 23\n",
      "    └── N3: 24\n"
     ]
    }
   ],
   "source": [
    "#H3_N1_K1_A1 = Node(\"A1: 3\",parent = H3_N1_K1)\n",
    "#H3_N1_K1_A2 = Node(\"A2: 4\",parent = H3_N1_K1)\n",
    "H3_N1_K1_A3 = Node(\"A3: 48\",parent = H3_N1_K1)\n",
    "\n",
    "#H3_N1_K3_A1 = Node(\"A1: 3\",parent = H3_N1_K1)\n",
    "H3_N1_K3_A2 = Node(\"A2: 50\",parent = H3_N1_K1)\n",
    "#H3_N1_K3_A3 = Node(\"A3: 6\",parent = H3_N1_K1)\n",
    "\n",
    "#H3_N3_K1_A1 = Node(\"A1: \",parent=H3N3K1)\n",
    "#H3_N3_K1_A2 = Node(\"A2: \",parent=H3N3K1)\n",
    "H3_N3_K1_A3 = Node(\"A3: 32\",parent=H3_N3_K1)\n",
    "\n",
    "for pre, fill, node in RenderTree(root):\n",
    "    print(\"%s%s\" % (pre, node.name))"
   ]
  },
  {
   "cell_type": "code",
   "execution_count": 6,
   "id": "710f0a39",
   "metadata": {},
   "outputs": [],
   "source": [
    "stoppingPoints = Node(\"E: 572\")\n",
    "\n",
    "E1 = Node(\"E1: 70\", parent=stoppingPoints)\n",
    "E2 = Node(\"E2: 399\", parent=stoppingPoints)\n",
    "E3 = Node(\"E3: 55\", parent=stoppingPoints)\n",
    "E4 = Node(\"E4: 48\", parent=stoppingPoints)\n",
    "\n",
    "\n",
    "#for pre, fill, node in RenderTree(stoppingPoints):\n",
    "#    print(\"%s%s\" % (pre, node.name))"
   ]
  },
  {
   "cell_type": "code",
   "execution_count": 7,
   "id": "45d55984",
   "metadata": {},
   "outputs": [],
   "source": [
    "E1_N1 = Node(\"N1: 22\",parent = E1)\n",
    "#E1_N2 = Node(\"N2: 1\",parent = E1)\n",
    "E1_N3 = Node(\"N3: 22\",parent = E1)\n",
    "\n",
    "E2_N1 = Node(\"N1: 135\",parent = E2)\n",
    "#E2_N2 = Node(\"N2: 14\",parent = E2)\n",
    "E2_N3 = Node(\"N3: 98\",parent = E2)\n",
    "\n",
    "#E3_N1 = Node(\"N1: 19\",parent = E3)\n",
    "#E3_N2 = Node(\"N2: 3\",parent = E3)\n",
    "#E3_N3 = Node(\"N3: 17\",parent = E3)\n",
    "\n",
    "#E4_N1 = Node(\"N1: 19\",parent = E4)\n",
    "#E4_N2 = Node(\"N2: 0\",parent = E4)\n",
    "#E4_N3 = Node(\"N3: 13\",parent = E4)\n",
    "\n",
    "#for pre, fill, node in RenderTree(stoppingPoints):\n",
    "#    print(\"%s%s\" % (pre, node.name))"
   ]
  },
  {
   "cell_type": "code",
   "execution_count": 8,
   "id": "c092cbdf",
   "metadata": {},
   "outputs": [],
   "source": [
    "E2_N1_K1 = Node(\"K1: 48\",parent = E2_N1)\n",
    "#E2_N1_K2 = Node(\"K2: 10\",parent = E2_N1)\n",
    "E2_N1_K3 = Node(\"K3: 52\",parent = E2_N1)\n",
    "\n",
    "E2_N3_K1 = Node(\"K1: 41\",parent = E2_N3)\n",
    "#E2_N3_K2 = Node(\"K2: 10\",parent = E2_N1)\n",
    "E2_N3_K3 = Node(\"K3: 32\",parent = E2_N3)\n",
    "\n",
    "#for pre, fill, node in RenderTree(stoppingPoints):\n",
    "#    print(\"%s%s\" % (pre, node.name))"
   ]
  },
  {
   "cell_type": "code",
   "execution_count": 9,
   "id": "51406970",
   "metadata": {},
   "outputs": [
    {
     "name": "stdout",
     "output_type": "stream",
     "text": [
      "E: 572\n",
      "├── E1: 70\n",
      "│   ├── N1: 22\n",
      "│   └── N3: 22\n",
      "├── E2: 399\n",
      "│   ├── N1: 135\n",
      "│   │   ├── K1: 48\n",
      "│   │   │   └── A2: 41\n",
      "│   │   └── K3: 52\n",
      "│   │       └── A2: 42\n",
      "│   └── N3: 98\n",
      "│       ├── K1: 41\n",
      "│       │   └── A2: 33\n",
      "│       └── K3: 32\n",
      "├── E3: 55\n",
      "└── E4: 48\n"
     ]
    }
   ],
   "source": [
    "#E2_N1_K1_A1 = Node(\"A1: 3\",parent = E2_N1_K1)\n",
    "#E2_N1_K1_A2 = Node(\"A2: 4\",parent = E2_N1_K1)\n",
    "E2_N1_K1_A3 = Node(\"A2: 41\",parent = E2_N1_K1)\n",
    "\n",
    "#E2_N1_K3_A1 = Node(\"A1: 5\",parent = E2_N1_K3)\n",
    "E2_N1_K3_A2 = Node(\"A2: 42\",parent = E2_N1_K3)\n",
    "#E2_N1_K3_A3 = Node(\"A2: 5\",parent = E2_N1_K3)\n",
    "\n",
    "#E2_N3_K1_A1 = Node(\"A1: 4\",parent = E2_N3_K1)\n",
    "#E2_N3_K1_A2 = Node(\"A2: 4\",parent = E2_N3_K1)\n",
    "E2_N3_K1_A3 = Node(\"A2: 33\",parent = E2_N3_K1)\n",
    "\n",
    "for pre, fill, node in RenderTree(stoppingPoints):\n",
    "    print(\"%s%s\" % (pre, node.name))"
   ]
  },
  {
   "cell_type": "code",
   "execution_count": 10,
   "id": "b4e8e933",
   "metadata": {},
   "outputs": [],
   "source": [
    "reactionTime = Node(\"K: 835\")\n",
    "\n",
    "K1 = Node(\"K1: 349\", parent=reactionTime)\n",
    "K2 = Node(\"K2: 77\", parent=reactionTime)\n",
    "K3 = Node(\"K3: 409\", parent=reactionTime)\n",
    "\n",
    "\n",
    "#for pre, fill, node in RenderTree(reactionTime):\n",
    "#    print(\"%s%s\" % (pre, node.name))"
   ]
  },
  {
   "cell_type": "code",
   "execution_count": 11,
   "id": "0c3cebab",
   "metadata": {},
   "outputs": [
    {
     "name": "stdout",
     "output_type": "stream",
     "text": [
      "K: 835\n",
      "├── K1: 349\n",
      "│   ├── H1: 24\n",
      "│   ├── H3: 144\n",
      "│   └── H4: 32\n",
      "├── K2: 77\n",
      "└── K3: 409\n",
      "    ├── H1: 44\n",
      "    └── H3: 172\n"
     ]
    }
   ],
   "source": [
    "K1H1 = Node(\"H1: 24\", parent = K1)\n",
    "#K1H2 = Node(\"H2: 4\", parent = K1)\n",
    "K1H3 = Node(\"H3: 144\", parent = K1)\n",
    "K1H4 = Node(\"H4: 32\", parent = K1)\n",
    "\n",
    "#K2H1 = Node(\"H1: 10\", parent = K1)\n",
    "#K2H2 = Node(\"H2: 2\", parent = K1)\n",
    "#K2H3 = Node(\"H3: 32\", parent = K1)\n",
    "#K2H4 = Node(\"H4: 6\" , parent = K1)\n",
    "\n",
    "K3H1 = Node(\"H1: 44\", parent = K3)\n",
    "#K3H2 = Node(\"H2: 9\", parent = K1)\n",
    "K3H3 = Node(\"H3: 172\", parent = K3)\n",
    "#K3H4 = Node(\"H4: 25\", parent = K1)\n",
    "\n",
    "for pre, fill, node in RenderTree(reactionTime):\n",
    "    print(\"%s%s\" % (pre, node.name))"
   ]
  },
  {
   "cell_type": "code",
   "execution_count": 12,
   "id": "95d1ba9d",
   "metadata": {},
   "outputs": [
    {
     "name": "stdout",
     "output_type": "stream",
     "text": [
      "K: 835\n",
      "├── K1: 349\n",
      "│   ├── H1: 24\n",
      "│   ├── H3: 144\n",
      "│   ├── H4: 32\n",
      "│   ├── E1: \n",
      "│   ├── E2: \n",
      "│   ├── E3: \n",
      "│   └── E4: \n",
      "├── K2: 77\n",
      "└── K3: 409\n",
      "    ├── H1: 44\n",
      "    └── H3: 172\n"
     ]
    }
   ],
   "source": [
    "K2E1 = Node(\"E1: \", parent = K1)\n",
    "K2E2 = Node(\"E2: \", parent = K1)\n",
    "K2E3 = Node(\"E3: \", parent = K1)\n",
    "K2E4 = Node(\"E4: \" , parent = K1)\n",
    "\n",
    "for pre, fill, node in RenderTree(reactionTime):\n",
    "    print(\"%s%s\" % (pre, node.name))"
   ]
  },
  {
   "cell_type": "code",
   "execution_count": 3,
   "id": "f9ebdd54",
   "metadata": {},
   "outputs": [
    {
     "name": "stdout",
     "output_type": "stream",
     "text": [
      "1562 Total Sessions\n",
      "└── Reward Choice Max Vs Shift| 72.023% of Total Sessions|1125 Sessions \n",
      "    ├── Reward Choice Max Vs Shift Cluster 1| 40 Sessions\n",
      "    ├── Reward Choice Max Vs Shift Cluster 2| 489 Sessions\n",
      "    ├── Reward Choice Max Vs Shift Cluster 3| 164 Sessions\n",
      "    └── Reward Choice Max Vs Shift Cluster 4| 423 Sessions\n"
     ]
    }
   ],
   "source": [
    "allSessions = Node(\"1562 Total Sessions\")\n",
    "\n",
    "M = Node(\"Reward Choice Max Vs Shift| 72.023% of Total Sessions|1125 Sessions \",parent=allSessions)\n",
    "\n",
    "M1 = Node(\"Reward Choice Max Vs Shift Cluster 1| 40 Sessions\", parent=M)\n",
    "M2 = Node(\"Reward Choice Max Vs Shift Cluster 2| 489 Sessions\", parent=M)\n",
    "M3 = Node(\"Reward Choice Max Vs Shift Cluster 3| 164 Sessions\", parent=M)\n",
    "M4 = Node(\"Reward Choice Max Vs Shift Cluster 4| 423 Sessions\", parent=M)\n",
    "\n",
    "\n",
    "for pre, fill, node in RenderTree(allSessions):\n",
    "    print(\"%s%s\" % (pre, node.name))"
   ]
  },
  {
   "cell_type": "code",
   "execution_count": 14,
   "id": "f8791ed6",
   "metadata": {},
   "outputs": [
    {
     "name": "stdout",
     "output_type": "stream",
     "text": [
      "M: 1125 Members\n",
      "├── M1: 40 Members\n",
      "├── M2: 489 Members\n",
      "│   ├── G1: 28\n",
      "│   ├── G2: 84\n",
      "│   └── G3: 113\n",
      "├── M3: 164 Members\n",
      "│   ├── J1: 12\n",
      "│   ├── J2: 28\n",
      "│   └── J3: 31\n",
      "└── M4: 423 Members\n",
      "    ├── J1: 27\n",
      "    ├── J2: 87\n",
      "    └── J3: 122\n"
     ]
    }
   ],
   "source": [
    "M2_A1 = Node(\"G1: 28\",parent = M2)\n",
    "M2_A2 = Node(\"G2: 84\",parent = M2)\n",
    "M2_A3 = Node(\"G3: 113\",parent = M2)\n",
    "\n",
    "M3_A1 = Node(\"J1: 12\",parent = M3)\n",
    "M3_A2 = Node(\"J2: 28\",parent = M3)\n",
    "M3_A3 = Node(\"J3: 31\",parent = M3)\n",
    "\n",
    "M4_A1 = Node(\"J1: 27\",parent = M4)\n",
    "M4_A2 = Node(\"J2: 87\",parent = M4)\n",
    "M4_A3 = Node(\"J3: 122\",parent = M4)\n",
    "\n",
    "\n",
    "for pre, fill, node in RenderTree(rewardChoice):\n",
    "    print(\"%s%s\" % (pre, node.name))"
   ]
  },
  {
   "cell_type": "code",
   "execution_count": null,
   "id": "a511d051",
   "metadata": {},
   "outputs": [],
   "source": []
  },
  {
   "cell_type": "code",
   "execution_count": null,
   "id": "49662dcb",
   "metadata": {},
   "outputs": [],
   "source": []
  }
 ],
 "metadata": {
  "kernelspec": {
   "display_name": "Python 3 (ipykernel)",
   "language": "python",
   "name": "python3"
  },
  "language_info": {
   "codemirror_mode": {
    "name": "ipython",
    "version": 3
   },
   "file_extension": ".py",
   "mimetype": "text/x-python",
   "name": "python",
   "nbconvert_exporter": "python",
   "pygments_lexer": "ipython3",
   "version": "3.7.13"
  }
 },
 "nbformat": 4,
 "nbformat_minor": 5
}
