{
 "cells": [
  {
   "cell_type": "code",
   "execution_count": 12,
   "id": "008d964f",
   "metadata": {},
   "outputs": [],
   "source": [
    "import psycopg2\n",
    "#from config import config\n",
    "import pandas as pd"
   ]
  },
  {
   "cell_type": "code",
   "execution_count": 13,
   "id": "ef4f6612",
   "metadata": {},
   "outputs": [],
   "source": [
    "conn = psycopg2.connect(\n",
    "   database=\"live_database\", user='postgres', password='1234', host='129.108.141.37', port= '5432'\n",
    ")"
   ]
  },
  {
   "cell_type": "code",
   "execution_count": 14,
   "id": "07f0ac2b",
   "metadata": {},
   "outputs": [],
   "source": [
    "cur = conn.cursor()"
   ]
  },
  {
   "cell_type": "code",
   "execution_count": 15,
   "id": "299ae3a1",
   "metadata": {},
   "outputs": [
    {
     "name": "stdout",
     "output_type": "stream",
     "text": [
      "None\n"
     ]
    }
   ],
   "source": [
    "print(cur.execute(\"select version()\"))"
   ]
  },
  {
   "cell_type": "code",
   "execution_count": 16,
   "id": "b354c2ba",
   "metadata": {},
   "outputs": [
    {
     "name": "stdout",
     "output_type": "stream",
     "text": [
      "Connection established to:  ('PostgreSQL 14.1, compiled by Visual C++ build 1914, 64-bit',)\n"
     ]
    }
   ],
   "source": [
    "data = cur.fetchone()\n",
    "print(\"Connection established to: \",data)"
   ]
  },
  {
   "cell_type": "code",
   "execution_count": 17,
   "id": "5eb70ac2",
   "metadata": {},
   "outputs": [],
   "source": [
    "query = \"SELECT subjectid,date,x1,x2,x3,x4,y1,y2,y3,y4 FROM newbaselinereactiontimepsychometricfunctions;\";\n",
    "cur.execute(query)\n",
    "reactionTimeResults = cur.fetchall\n",
    "\n",
    "\n",
    "query = \"SELECT subjectid,date,x1,x2,x3,x4,y1,y2,y3,y4 FROM newbaselinerewardchoicepsychometricfunctions;\";\n",
    "cur.execute(query)\n",
    "rewardChoiceResults =cur.fetchall\n",
    "\n",
    "query = \"SELECT subjectid,date,x1,x2,x3,x4,y1,y2,y3,y4 FROM newbaselinerotationpointspsychometricfunctions;\";\n",
    "cur.execute(query)\n",
    "rotationPointsResults =cur.fetchall\n",
    "\n",
    "query = \"SELECT subjectid,date,x1,x2,x3,x4,y1,y2,y3,y4 FROM newbaselinestoppingptspsychometricfunctions;\";\n",
    "cur.execute(query)\n",
    "stoppingPointsResults = cur.fetchall\n",
    "\n",
    "query = \"SELECT subjectid,date,x1,x2,x3,x4,y1,y2,y3,y4 FROM newbaselinetravelpixelpsychometricfunctions;\";\n",
    "cur.execute(query)\n",
    "travelPixelResults =cur.fetchall"
   ]
  },
  {
   "cell_type": "code",
   "execution_count": 18,
   "id": "639fcdfe",
   "metadata": {},
   "outputs": [],
   "source": [
    "cur.execute(query)"
   ]
  },
  {
   "cell_type": "code",
   "execution_count": 19,
   "id": "c9177f9e",
   "metadata": {},
   "outputs": [],
   "source": [
    "ratRecords = cur.fetchall()"
   ]
  },
  {
   "cell_type": "code",
   "execution_count": 20,
   "id": "c014440f",
   "metadata": {},
   "outputs": [
    {
     "name": "stdout",
     "output_type": "stream",
     "text": [
      "[('alexis', 'Female', '07/06/2021', '14290', 'N/A', 'CRL: Long Evans', 'Sarah', 1), ('kryssia', 'Female', '07/06/2021', '14291', 'N/A', 'CRL: Long Evans', 'Raven', 2), ('harley', 'Female', '07/06/2021', '14292', 'N/A', 'CRL: Long Evans', 'Shakira', 3), ('raissa', 'Female', '07/06/2021', '14293', 'N/A', 'CRL: Long Evans', 'Renata', 4), ('andrea', 'Female', '07/06/2021', '14294', 'N/A', 'CRL: Long Evans', 'Neftali', 5), ('fiona', 'Female', '07/06/2021', '14295', 'N/A', 'CRL: Long Evans', 'Juana', 6), ('sully', 'Male', '07/06/2021', '14296', 'N/A', 'CRL: Long Evans', 'Mike', 7), ('jafar', 'Male', '07/06/2021', '14297', 'N/A', 'CRL: Long Evans', 'Aladdin', 8), ('kobe', 'Male', '07/06/2021', '14298', 'N/A', 'CRL: Long Evans', '-', 9), ('jr', 'Male', '07/06/2021', '14299', 'N/A', 'CRL: Long Evans', 'Carl', 10), ('scar', 'Male', '07/06/2021', '14300', 'N/A', 'CRL: Long Evans', 'Simba', 11), ('jimi', 'Male', '07/06/2021', '14301', 'N/A', 'CRL: Long Evans', 'Johnny', 12), ('sarah', 'Female', '07/06/2021', '14290', 'N/A', 'CRL: Long Evans', 'Alexis', 13), ('raven', 'Female', '07/06/2021', '14291', 'N/A', 'CRL: Long Evans', 'Kryssia', 14), ('shakira', 'Female', '07/06/2021', '14292', 'N/A', 'CRL: Long Evans', 'Harley', 15), ('renata', 'Female', '07/06/2021', '14293', 'N/A', 'CRL: Long Evans', 'Raissa', 16), ('neftali', 'Female', '07/06/2021', '14294', 'N/A', 'CRL: Long Evans', 'Andrea', 17), ('juana', 'Female', '07/06/2021', '14295', 'N/A', 'CRL: Long Evans', 'Fiona', 18), ('mike', 'Male', '07/06/2021', '14296', 'N/A', 'CRL: Long Evans', 'Sully', 19), ('aladdin', 'Male', '07/06/2021', '14297', 'N/A', 'CRL: Long Evans', 'Jaffar', 20), ('carl', 'Male', '07/06/2021', '14299', 'N/A', 'CRL: Long Evans', 'Jr', 21), ('simba', 'male', '07/06/2021', '14300', 'N/A', 'CRL: Long Evans', 'Scar', 22), ('johnny', 'male', '07/06/2021', '14301', 'N/A', 'CRL: Long Evans', 'jimi', 23), ('none', 'none', 'none', 'none', 'none', 'none', 'none', 24), ('captain', 'Male', '07/30/2021', '16079', 'N/A', 'CRL: Long Evans', 'None', 25), ('pepper', 'Female', '07/30/2021', '14533', 'N/A', 'CRL: Long Evans', 'None', 27), ('buzz', 'Male', '02/18/2022', '16041', 'N/A', 'CRL: Long Evans', 'None', 26), ('ken', 'Male', '02/18/2022', '16038', 'N/A', 'CRL: Long Evans', 'None', 28), ('woody', 'Male', '02/18/2022', '16039', 'N/A', 'CRL: Long Evans', 'none', 30), ('slinky', 'Male', '', '', 'N/A', 'CRL: Long Evans', 'None', 29), ('rex', 'Male', '02/18/2022', '16040', 'N/A', 'CRL: Long Evans', 'none', 31), ('trixie', 'Female', '02/18/2022', '16032', 'N/A', 'CRL: Long Evans', 'none', 33), ('barbie', 'Female', '02/18/2022', '16035', 'N/A', 'CRL: Long Evans', 'none', 32), ('bopeep', 'Female', '02/18/2022', '16036', 'N/A', 'CRL: Long Evans', 'none', 34), ('wanda', 'Female', '07/30/2021', '16077', 'N/A', 'CRL: Long Evans', 'none', 35), ('vision', 'Female', '07/30/2021', '14532', 'N/A', 'CRL: Long Evans', 'none', 36), ('buttercup', 'Female', '02/18/2022', '16033', 'N/A', 'CRL: Long Evans', 'none', 37), ('monster', 'Female', None, None, 'N/A', 'CRL: Long Evans', 'none', 38)]\n"
     ]
    }
   ],
   "source": [
    "print(ratRecords)"
   ]
  },
  {
   "cell_type": "code",
   "execution_count": 21,
   "id": "e6002cc2",
   "metadata": {},
   "outputs": [
    {
     "name": "stdout",
     "output_type": "stream",
     "text": [
      "<class 'list'>\n"
     ]
    }
   ],
   "source": [
    "print(type(ratRecords))"
   ]
  },
  {
   "cell_type": "code",
   "execution_count": 22,
   "id": "b8e205dc",
   "metadata": {},
   "outputs": [],
   "source": [
    "pdVersion = pd.DataFrame(ratRecords)"
   ]
  },
  {
   "cell_type": "code",
   "execution_count": 23,
   "id": "b37a1f29",
   "metadata": {},
   "outputs": [
    {
     "name": "stdout",
     "output_type": "stream",
     "text": [
      "            0       1           2      3     4                5        6   7\n",
      "0      alexis  Female  07/06/2021  14290   N/A  CRL: Long Evans    Sarah   1\n",
      "1     kryssia  Female  07/06/2021  14291   N/A  CRL: Long Evans    Raven   2\n",
      "2      harley  Female  07/06/2021  14292   N/A  CRL: Long Evans  Shakira   3\n",
      "3      raissa  Female  07/06/2021  14293   N/A  CRL: Long Evans   Renata   4\n",
      "4      andrea  Female  07/06/2021  14294   N/A  CRL: Long Evans  Neftali   5\n",
      "5       fiona  Female  07/06/2021  14295   N/A  CRL: Long Evans    Juana   6\n",
      "6       sully    Male  07/06/2021  14296   N/A  CRL: Long Evans     Mike   7\n",
      "7       jafar    Male  07/06/2021  14297   N/A  CRL: Long Evans  Aladdin   8\n",
      "8        kobe    Male  07/06/2021  14298   N/A  CRL: Long Evans        -   9\n",
      "9          jr    Male  07/06/2021  14299   N/A  CRL: Long Evans     Carl  10\n",
      "10       scar    Male  07/06/2021  14300   N/A  CRL: Long Evans    Simba  11\n",
      "11       jimi    Male  07/06/2021  14301   N/A  CRL: Long Evans   Johnny  12\n",
      "12      sarah  Female  07/06/2021  14290   N/A  CRL: Long Evans   Alexis  13\n",
      "13      raven  Female  07/06/2021  14291   N/A  CRL: Long Evans  Kryssia  14\n",
      "14    shakira  Female  07/06/2021  14292   N/A  CRL: Long Evans   Harley  15\n",
      "15     renata  Female  07/06/2021  14293   N/A  CRL: Long Evans   Raissa  16\n",
      "16    neftali  Female  07/06/2021  14294   N/A  CRL: Long Evans   Andrea  17\n",
      "17      juana  Female  07/06/2021  14295   N/A  CRL: Long Evans    Fiona  18\n",
      "18       mike    Male  07/06/2021  14296   N/A  CRL: Long Evans    Sully  19\n",
      "19    aladdin    Male  07/06/2021  14297   N/A  CRL: Long Evans   Jaffar  20\n",
      "20       carl    Male  07/06/2021  14299   N/A  CRL: Long Evans       Jr  21\n",
      "21      simba    male  07/06/2021  14300   N/A  CRL: Long Evans     Scar  22\n",
      "22     johnny    male  07/06/2021  14301   N/A  CRL: Long Evans     jimi  23\n",
      "23       none    none        none   none  none             none     none  24\n",
      "24    captain    Male  07/30/2021  16079   N/A  CRL: Long Evans     None  25\n",
      "25     pepper  Female  07/30/2021  14533   N/A  CRL: Long Evans     None  27\n",
      "26       buzz    Male  02/18/2022  16041   N/A  CRL: Long Evans     None  26\n",
      "27        ken    Male  02/18/2022  16038   N/A  CRL: Long Evans     None  28\n",
      "28      woody    Male  02/18/2022  16039   N/A  CRL: Long Evans     none  30\n",
      "29     slinky    Male                      N/A  CRL: Long Evans     None  29\n",
      "30        rex    Male  02/18/2022  16040   N/A  CRL: Long Evans     none  31\n",
      "31     trixie  Female  02/18/2022  16032   N/A  CRL: Long Evans     none  33\n",
      "32     barbie  Female  02/18/2022  16035   N/A  CRL: Long Evans     none  32\n",
      "33     bopeep  Female  02/18/2022  16036   N/A  CRL: Long Evans     none  34\n",
      "34      wanda  Female  07/30/2021  16077   N/A  CRL: Long Evans     none  35\n",
      "35     vision  Female  07/30/2021  14532   N/A  CRL: Long Evans     none  36\n",
      "36  buttercup  Female  02/18/2022  16033   N/A  CRL: Long Evans     none  37\n",
      "37    monster  Female        None   None   N/A  CRL: Long Evans     none  38\n"
     ]
    }
   ],
   "source": [
    "print(pdVersion)"
   ]
  },
  {
   "cell_type": "code",
   "execution_count": null,
   "id": "4bcc926a",
   "metadata": {},
   "outputs": [],
   "source": []
  }
 ],
 "metadata": {
  "kernelspec": {
   "display_name": "Python 3 (ipykernel)",
   "language": "python",
   "name": "python3"
  },
  "language_info": {
   "codemirror_mode": {
    "name": "ipython",
    "version": 3
   },
   "file_extension": ".py",
   "mimetype": "text/x-python",
   "name": "python",
   "nbconvert_exporter": "python",
   "pygments_lexer": "ipython3",
   "version": "3.7.13"
  }
 },
 "nbformat": 4,
 "nbformat_minor": 5
}
