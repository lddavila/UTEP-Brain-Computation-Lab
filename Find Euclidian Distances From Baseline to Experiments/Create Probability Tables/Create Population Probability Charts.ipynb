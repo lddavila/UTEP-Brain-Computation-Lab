{
 "cells": [
  {
   "cell_type": "code",
   "execution_count": 3,
   "id": "d4022854",
   "metadata": {},
   "outputs": [],
   "source": [
    "import pandas as pd\n",
    "import matplotlib.pyplot as plt\n",
    "from matplotlib.pyplot import figure"
   ]
  },
  {
   "cell_type": "code",
   "execution_count": 2,
   "id": "3ed86ab9",
   "metadata": {},
   "outputs": [
    {
     "data": {
      "text/html": [
       "<div>\n",
       "<style scoped>\n",
       "    .dataframe tbody tr th:only-of-type {\n",
       "        vertical-align: middle;\n",
       "    }\n",
       "\n",
       "    .dataframe tbody tr th {\n",
       "        vertical-align: top;\n",
       "    }\n",
       "\n",
       "    .dataframe thead th {\n",
       "        text-align: right;\n",
       "    }\n",
       "</style>\n",
       "<table border=\"1\" class=\"dataframe\">\n",
       "  <thead>\n",
       "    <tr style=\"text-align: right;\">\n",
       "      <th></th>\n",
       "      <th>Cluster_Names</th>\n",
       "      <th>Probabilities</th>\n",
       "    </tr>\n",
       "  </thead>\n",
       "  <tbody>\n",
       "    <tr>\n",
       "      <th>0</th>\n",
       "      <td>A1</td>\n",
       "      <td>0.129359</td>\n",
       "    </tr>\n",
       "    <tr>\n",
       "      <th>1</th>\n",
       "      <td>A2</td>\n",
       "      <td>0.410574</td>\n",
       "    </tr>\n",
       "    <tr>\n",
       "      <th>2</th>\n",
       "      <td>A3</td>\n",
       "      <td>0.460067</td>\n",
       "    </tr>\n",
       "    <tr>\n",
       "      <th>3</th>\n",
       "      <td>D1</td>\n",
       "      <td>0.122378</td>\n",
       "    </tr>\n",
       "    <tr>\n",
       "      <th>4</th>\n",
       "      <td>D2</td>\n",
       "      <td>0.697552</td>\n",
       "    </tr>\n",
       "    <tr>\n",
       "      <th>5</th>\n",
       "      <td>D3</td>\n",
       "      <td>0.180070</td>\n",
       "    </tr>\n",
       "    <tr>\n",
       "      <th>6</th>\n",
       "      <td>G1</td>\n",
       "      <td>0.709353</td>\n",
       "    </tr>\n",
       "    <tr>\n",
       "      <th>7</th>\n",
       "      <td>G2</td>\n",
       "      <td>0.143885</td>\n",
       "    </tr>\n",
       "    <tr>\n",
       "      <th>8</th>\n",
       "      <td>G3</td>\n",
       "      <td>0.012950</td>\n",
       "    </tr>\n",
       "    <tr>\n",
       "      <th>9</th>\n",
       "      <td>G4</td>\n",
       "      <td>0.133813</td>\n",
       "    </tr>\n",
       "    <tr>\n",
       "      <th>10</th>\n",
       "      <td>J1</td>\n",
       "      <td>0.416766</td>\n",
       "    </tr>\n",
       "    <tr>\n",
       "      <th>11</th>\n",
       "      <td>J2</td>\n",
       "      <td>0.091018</td>\n",
       "    </tr>\n",
       "    <tr>\n",
       "      <th>12</th>\n",
       "      <td>J3</td>\n",
       "      <td>0.134132</td>\n",
       "    </tr>\n",
       "    <tr>\n",
       "      <th>13</th>\n",
       "      <td>J4</td>\n",
       "      <td>0.358084</td>\n",
       "    </tr>\n",
       "    <tr>\n",
       "      <th>14</th>\n",
       "      <td>M1</td>\n",
       "      <td>0.035556</td>\n",
       "    </tr>\n",
       "    <tr>\n",
       "      <th>15</th>\n",
       "      <td>M2</td>\n",
       "      <td>0.434667</td>\n",
       "    </tr>\n",
       "    <tr>\n",
       "      <th>16</th>\n",
       "      <td>M3</td>\n",
       "      <td>0.145778</td>\n",
       "    </tr>\n",
       "    <tr>\n",
       "      <th>17</th>\n",
       "      <td>M4</td>\n",
       "      <td>0.384000</td>\n",
       "    </tr>\n",
       "  </tbody>\n",
       "</table>\n",
       "</div>"
      ],
      "text/plain": [
       "   Cluster_Names  Probabilities\n",
       "0             A1       0.129359\n",
       "1             A2       0.410574\n",
       "2             A3       0.460067\n",
       "3             D1       0.122378\n",
       "4             D2       0.697552\n",
       "5             D3       0.180070\n",
       "6             G1       0.709353\n",
       "7             G2       0.143885\n",
       "8             G3       0.012950\n",
       "9             G4       0.133813\n",
       "10            J1       0.416766\n",
       "11            J2       0.091018\n",
       "12            J3       0.134132\n",
       "13            J4       0.358084\n",
       "14            M1       0.035556\n",
       "15            M2       0.434667\n",
       "16            M3       0.145778\n",
       "17            M4       0.384000"
      ]
     },
     "metadata": {},
     "output_type": "display_data"
    }
   ],
   "source": [
    "baseline = pd.read_csv(\"baselineProbabilityTable.csv\")\n",
    "display(baseline)"
   ]
  },
  {
   "cell_type": "code",
   "execution_count": 3,
   "id": "7e14a77b",
   "metadata": {},
   "outputs": [
    {
     "data": {
      "text/html": [
       "<div>\n",
       "<style scoped>\n",
       "    .dataframe tbody tr th:only-of-type {\n",
       "        vertical-align: middle;\n",
       "    }\n",
       "\n",
       "    .dataframe tbody tr th {\n",
       "        vertical-align: top;\n",
       "    }\n",
       "\n",
       "    .dataframe thead th {\n",
       "        text-align: right;\n",
       "    }\n",
       "</style>\n",
       "<table border=\"1\" class=\"dataframe\">\n",
       "  <thead>\n",
       "    <tr style=\"text-align: right;\">\n",
       "      <th></th>\n",
       "      <th>Cluster_Names</th>\n",
       "      <th>Probabilities</th>\n",
       "    </tr>\n",
       "  </thead>\n",
       "  <tbody>\n",
       "    <tr>\n",
       "      <th>0</th>\n",
       "      <td>A1</td>\n",
       "      <td>0.061224</td>\n",
       "    </tr>\n",
       "    <tr>\n",
       "      <th>1</th>\n",
       "      <td>A2</td>\n",
       "      <td>0.387755</td>\n",
       "    </tr>\n",
       "    <tr>\n",
       "      <th>2</th>\n",
       "      <td>A3</td>\n",
       "      <td>0.551020</td>\n",
       "    </tr>\n",
       "    <tr>\n",
       "      <th>3</th>\n",
       "      <td>D1</td>\n",
       "      <td>0.080745</td>\n",
       "    </tr>\n",
       "    <tr>\n",
       "      <th>4</th>\n",
       "      <td>D2</td>\n",
       "      <td>0.795031</td>\n",
       "    </tr>\n",
       "    <tr>\n",
       "      <th>5</th>\n",
       "      <td>D3</td>\n",
       "      <td>0.124224</td>\n",
       "    </tr>\n",
       "    <tr>\n",
       "      <th>6</th>\n",
       "      <td>G1</td>\n",
       "      <td>0.696970</td>\n",
       "    </tr>\n",
       "    <tr>\n",
       "      <th>7</th>\n",
       "      <td>G2</td>\n",
       "      <td>0.121212</td>\n",
       "    </tr>\n",
       "    <tr>\n",
       "      <th>8</th>\n",
       "      <td>G3</td>\n",
       "      <td>0.012121</td>\n",
       "    </tr>\n",
       "    <tr>\n",
       "      <th>9</th>\n",
       "      <td>G4</td>\n",
       "      <td>0.169697</td>\n",
       "    </tr>\n",
       "    <tr>\n",
       "      <th>10</th>\n",
       "      <td>J1</td>\n",
       "      <td>0.110390</td>\n",
       "    </tr>\n",
       "    <tr>\n",
       "      <th>11</th>\n",
       "      <td>J2</td>\n",
       "      <td>0.681818</td>\n",
       "    </tr>\n",
       "    <tr>\n",
       "      <th>12</th>\n",
       "      <td>J3</td>\n",
       "      <td>0.000000</td>\n",
       "    </tr>\n",
       "    <tr>\n",
       "      <th>13</th>\n",
       "      <td>J4</td>\n",
       "      <td>0.207792</td>\n",
       "    </tr>\n",
       "    <tr>\n",
       "      <th>14</th>\n",
       "      <td>M1</td>\n",
       "      <td>0.006849</td>\n",
       "    </tr>\n",
       "    <tr>\n",
       "      <th>15</th>\n",
       "      <td>M2</td>\n",
       "      <td>0.506849</td>\n",
       "    </tr>\n",
       "    <tr>\n",
       "      <th>16</th>\n",
       "      <td>M3</td>\n",
       "      <td>0.181507</td>\n",
       "    </tr>\n",
       "    <tr>\n",
       "      <th>17</th>\n",
       "      <td>M4</td>\n",
       "      <td>0.304795</td>\n",
       "    </tr>\n",
       "  </tbody>\n",
       "</table>\n",
       "</div>"
      ],
      "text/plain": [
       "   Cluster_Names  Probabilities\n",
       "0             A1       0.061224\n",
       "1             A2       0.387755\n",
       "2             A3       0.551020\n",
       "3             D1       0.080745\n",
       "4             D2       0.795031\n",
       "5             D3       0.124224\n",
       "6             G1       0.696970\n",
       "7             G2       0.121212\n",
       "8             G3       0.012121\n",
       "9             G4       0.169697\n",
       "10            J1       0.110390\n",
       "11            J2       0.681818\n",
       "12            J3       0.000000\n",
       "13            J4       0.207792\n",
       "14            M1       0.006849\n",
       "15            M2       0.506849\n",
       "16            M3       0.181507\n",
       "17            M4       0.304795"
      ]
     },
     "metadata": {},
     "output_type": "display_data"
    }
   ],
   "source": [
    "foodDep = pd.read_csv(\"foodDepProbabilityTable.csv\")\n",
    "display(foodDep)"
   ]
  },
  {
   "cell_type": "code",
   "execution_count": 4,
   "id": "9937bf71",
   "metadata": {},
   "outputs": [
    {
     "name": "stdout",
     "output_type": "stream",
     "text": [
      "['A1', 'A2', 'A3', 'D1', 'D2', 'D3', 'G1', 'G2', 'G3', 'G4', 'J1', 'J2', 'J3', 'J4', 'M1', 'M2', 'M3', 'M4']\n",
      "[0.0612244897959184, 0.387755102040816, 0.551020408163265, 0.0807453416149068, 0.795031055900621, 0.124223602484472, 0.696969696969697, 0.121212121212121, 0.0121212121212121, 0.16969696969697, 0.11038961038961, 0.681818181818182, 0.0, 0.207792207792208, 0.0068493150684931, 0.506849315068493, 0.181506849315068, 0.304794520547945]\n",
      "[0.129358830146232, 0.410573678290214, 0.460067491563555, 0.122377622377622, 0.697552447552448, 0.18006993006993, 0.709352517985611, 0.143884892086331, 0.0129496402877698, 0.133812949640288, 0.416766467065868, 0.0910179640718563, 0.134131736526946, 0.358083832335329, 0.0355555555555556, 0.434666666666667, 0.145777777777778, 0.384]\n"
     ]
    }
   ],
   "source": [
    "clusterNames = foodDep.Cluster_Names.values.tolist()\n",
    "foodDepProbs =foodDep.Probabilities.values.tolist()\n",
    "baselineProbs = baseline.Probabilities.values.tolist()\n",
    "print(clusterNames)\n",
    "print(foodDepProbs)\n",
    "print(baselineProbs)"
   ]
  },
  {
   "cell_type": "code",
   "execution_count": 5,
   "id": "67cd7dea",
   "metadata": {},
   "outputs": [
    {
     "data": {
      "image/png": "[encoded data removed]",
      "text/plain": [
       "<Figure size 432x288 with 1 Axes>"
      ]
     },
     "metadata": {
      "needs_background": "light"
     },
     "output_type": "display_data"
    }
   ],
   "source": [
    "plt.bar(clusterNames,foodDepProbs)\n",
    "plt.title('Food Deprivation Probabilities')\n",
    "plt.xlabel('Clusters')\n",
    "plt.ylabel('Probabilities')\n",
    "plt.ylim(0,1)\n",
    "for i in range(len(clusterNames)):\n",
    "        plt.text(i,foodDepProbs[i],\"{0:.2f}\".format(foodDepProbs[i]),ha='center')\n",
    "plt.savefig('Food Deprivation Probabilities Bar Chart.pdf')  \n",
    "plt.show()"
   ]
  },
  {
   "cell_type": "code",
   "execution_count": 6,
   "id": "81af786b",
   "metadata": {},
   "outputs": [
    {
     "data": {
      "image/png": "[encoded data removed]",
      "text/plain": [
       "<Figure size 432x288 with 1 Axes>"
      ]
     },
     "metadata": {
      "needs_background": "light"
     },
     "output_type": "display_data"
    }
   ],
   "source": [
    "plt.bar(clusterNames,baselineProbs)\n",
    "plt.title('Baseline Probabilities')\n",
    "plt.xlabel('Clusters')\n",
    "plt.ylabel('Probabilities')\n",
    "plt.ylim(0,1)\n",
    "for i in range(len(clusterNames)):\n",
    "        plt.text(i,baselineProbs[i],\"{0:.2f}\".format(baselineProbs[i]),ha='center')\n",
    "plt.savefig('Baseline Probabilities Bar Chart.pdf') \n",
    "plt.show() "
   ]
  },
  {
   "cell_type": "code",
   "execution_count": 7,
   "id": "10c24cfa",
   "metadata": {},
   "outputs": [
    {
     "data": {
      "image/png": "[encoded data removed]",
      "text/plain": [
       "<Figure size 432x288 with 1 Axes>"
      ]
     },
     "metadata": {
      "needs_background": "light"
     },
     "output_type": "display_data"
    }
   ],
   "source": [
    "ghrelin = pd.read_csv(\"ghrelinProbabilityTable.csv\")\n",
    "ghrelinProbabilities = ghrelin.Probabilities.values.tolist()\n",
    "plt.bar(clusterNames,ghrelinProbabilities)\n",
    "plt.title('Ghrelin Probabilities')\n",
    "plt.xlabel('Clusters')\n",
    "plt.ylabel('Probabilities')\n",
    "plt.ylim(0,1)\n",
    "for i in range(len(clusterNames)):\n",
    "        plt.text(i,ghrelinProbabilities[i],\"{0:.2f}\".format(ghrelinProbabilities[i]),ha='center')\n",
    "plt.savefig('Ghrelin Probabilities Bar Chart.pdf')  \n",
    "plt.show()"
   ]
  },
  {
   "cell_type": "code",
   "execution_count": 4,
   "id": "7d8b3310",
   "metadata": {},
   "outputs": [],
   "source": []
  },
  {
   "cell_type": "code",
   "execution_count": 7,
   "id": "77d3bde9",
   "metadata": {},
   "outputs": [
    {
     "data": {
      "text/html": [
       "<div>\n",
       "<style scoped>\n",
       "    .dataframe tbody tr th:only-of-type {\n",
       "        vertical-align: middle;\n",
       "    }\n",
       "\n",
       "    .dataframe tbody tr th {\n",
       "        vertical-align: top;\n",
       "    }\n",
       "\n",
       "    .dataframe thead th {\n",
       "        text-align: right;\n",
       "    }\n",
       "</style>\n",
       "<table border=\"1\" class=\"dataframe\">\n",
       "  <thead>\n",
       "    <tr style=\"text-align: right;\">\n",
       "      <th></th>\n",
       "      <th>Cluster_Name</th>\n",
       "      <th>Male_Probability</th>\n",
       "      <th>Female_Probability</th>\n",
       "    </tr>\n",
       "  </thead>\n",
       "  <tbody>\n",
       "    <tr>\n",
       "      <th>0</th>\n",
       "      <td>A1</td>\n",
       "      <td>0.582609</td>\n",
       "      <td>0.417391</td>\n",
       "    </tr>\n",
       "    <tr>\n",
       "      <th>1</th>\n",
       "      <td>A2</td>\n",
       "      <td>0.452055</td>\n",
       "      <td>0.547945</td>\n",
       "    </tr>\n",
       "    <tr>\n",
       "      <th>2</th>\n",
       "      <td>A3</td>\n",
       "      <td>0.501222</td>\n",
       "      <td>0.498778</td>\n",
       "    </tr>\n",
       "    <tr>\n",
       "      <th>3</th>\n",
       "      <td>D1</td>\n",
       "      <td>0.614286</td>\n",
       "      <td>0.385714</td>\n",
       "    </tr>\n",
       "    <tr>\n",
       "      <th>4</th>\n",
       "      <td>D2</td>\n",
       "      <td>0.468672</td>\n",
       "      <td>0.531328</td>\n",
       "    </tr>\n",
       "    <tr>\n",
       "      <th>5</th>\n",
       "      <td>D3</td>\n",
       "      <td>0.436893</td>\n",
       "      <td>0.563107</td>\n",
       "    </tr>\n",
       "    <tr>\n",
       "      <th>6</th>\n",
       "      <td>G1</td>\n",
       "      <td>0.432049</td>\n",
       "      <td>0.567951</td>\n",
       "    </tr>\n",
       "    <tr>\n",
       "      <th>7</th>\n",
       "      <td>G2</td>\n",
       "      <td>0.530000</td>\n",
       "      <td>0.470000</td>\n",
       "    </tr>\n",
       "    <tr>\n",
       "      <th>8</th>\n",
       "      <td>G3</td>\n",
       "      <td>0.666667</td>\n",
       "      <td>0.333333</td>\n",
       "    </tr>\n",
       "    <tr>\n",
       "      <th>9</th>\n",
       "      <td>G4</td>\n",
       "      <td>0.688172</td>\n",
       "      <td>0.311828</td>\n",
       "    </tr>\n",
       "    <tr>\n",
       "      <th>10</th>\n",
       "      <td>J1</td>\n",
       "      <td>0.451149</td>\n",
       "      <td>0.548851</td>\n",
       "    </tr>\n",
       "    <tr>\n",
       "      <th>11</th>\n",
       "      <td>J2</td>\n",
       "      <td>0.644737</td>\n",
       "      <td>0.355263</td>\n",
       "    </tr>\n",
       "    <tr>\n",
       "      <th>12</th>\n",
       "      <td>J3</td>\n",
       "      <td>0.526786</td>\n",
       "      <td>0.473214</td>\n",
       "    </tr>\n",
       "    <tr>\n",
       "      <th>13</th>\n",
       "      <td>J4</td>\n",
       "      <td>0.444816</td>\n",
       "      <td>0.555184</td>\n",
       "    </tr>\n",
       "    <tr>\n",
       "      <th>14</th>\n",
       "      <td>M1</td>\n",
       "      <td>0.475000</td>\n",
       "      <td>0.525000</td>\n",
       "    </tr>\n",
       "    <tr>\n",
       "      <th>15</th>\n",
       "      <td>M2</td>\n",
       "      <td>0.498978</td>\n",
       "      <td>0.501022</td>\n",
       "    </tr>\n",
       "    <tr>\n",
       "      <th>16</th>\n",
       "      <td>M3</td>\n",
       "      <td>0.609756</td>\n",
       "      <td>0.390244</td>\n",
       "    </tr>\n",
       "    <tr>\n",
       "      <th>17</th>\n",
       "      <td>M4</td>\n",
       "      <td>0.412037</td>\n",
       "      <td>0.587963</td>\n",
       "    </tr>\n",
       "  </tbody>\n",
       "</table>\n",
       "</div>"
      ],
      "text/plain": [
       "   Cluster_Name  Male_Probability  Female_Probability\n",
       "0            A1          0.582609            0.417391\n",
       "1            A2          0.452055            0.547945\n",
       "2            A3          0.501222            0.498778\n",
       "3            D1          0.614286            0.385714\n",
       "4            D2          0.468672            0.531328\n",
       "5            D3          0.436893            0.563107\n",
       "6            G1          0.432049            0.567951\n",
       "7            G2          0.530000            0.470000\n",
       "8            G3          0.666667            0.333333\n",
       "9            G4          0.688172            0.311828\n",
       "10           J1          0.451149            0.548851\n",
       "11           J2          0.644737            0.355263\n",
       "12           J3          0.526786            0.473214\n",
       "13           J4          0.444816            0.555184\n",
       "14           M1          0.475000            0.525000\n",
       "15           M2          0.498978            0.501022\n",
       "16           M3          0.609756            0.390244\n",
       "17           M4          0.412037            0.587963"
      ]
     },
     "metadata": {},
     "output_type": "display_data"
    }
   ],
   "source": []
  },
  {
   "cell_type": "code",
   "execution_count": 9,
   "id": "a97cf1ad",
   "metadata": {},
   "outputs": [],
   "source": []
  },
  {
   "cell_type": "code",
   "execution_count": 17,
   "id": "391460d2",
   "metadata": {},
   "outputs": [
    {
     "data": {
      "image/png": "[encoded data removed]",
      "text/plain": [
       "<Figure size 432x288 with 1 Axes>"
      ]
     },
     "metadata": {
      "needs_background": "light"
     },
     "output_type": "display_data"
    }
   ],
   "source": []
  },
  {
   "cell_type": "code",
   "execution_count": 18,
   "id": "fc839d99",
   "metadata": {},
   "outputs": [
    {
     "data": {
      "image/png": "[encoded data removed]",
      "text/plain": [
       "<Figure size 432x288 with 1 Axes>"
      ]
     },
     "metadata": {
      "needs_background": "light"
     },
     "output_type": "display_data"
    }
   ],
   "source": []
  },
  {
   "cell_type": "code",
   "execution_count": 12,
   "id": "c173c2af",
   "metadata": {},
   "outputs": [
    {
     "name": "stderr",
     "output_type": "stream",
     "text": [
      "posx and posy should be finite values\n",
      "posx and posy should be finite values\n"
     ]
    },
    {
     "data": {
      "image/png": "[encoded data removed]",
      "text/plain": [
       "<Figure size 432x288 with 1 Axes>"
      ]
     },
     "metadata": {
      "needs_background": "light"
     },
     "output_type": "display_data"
    }
   ],
   "source": [
    "plt.bar(clusterNames,foodDepMaleProbs)\n",
    "plt.title('Food Deprivation Male Probabilities')\n",
    "plt.xlabel('Clusters')\n",
    "plt.ylabel('Probabilities')\n",
    "plt.ylim(0,1)\n",
    "for i in range(len(clusterNames)):\n",
    "        plt.text(i,foodDepMaleProbs[i],\"{0:.2f}\".format(foodDepMaleProbs[i]),ha='center')\n",
    "#plt.savefig('Baseline Gender Probabilities Bar Chart.pdf')  \n",
    "plt.show()"
   ]
  },
  {
   "cell_type": "code",
   "execution_count": 13,
   "id": "adc1590f",
   "metadata": {},
   "outputs": [
    {
     "name": "stderr",
     "output_type": "stream",
     "text": [
      "posx and posy should be finite values\n",
      "posx and posy should be finite values\n"
     ]
    },
    {
     "data": {
      "image/png": "[encoded data removed]",
      "text/plain": [
       "<Figure size 432x288 with 1 Axes>"
      ]
     },
     "metadata": {
      "needs_background": "light"
     },
     "output_type": "display_data"
    }
   ],
   "source": [
    "plt.bar(clusterNames,foodDepFemaleProbs)\n",
    "plt.title('Food Deprivation Female Probabilities')\n",
    "plt.xlabel('Clusters')\n",
    "plt.ylabel('Probabilities')\n",
    "plt.ylim(0,1)\n",
    "for i in range(len(clusterNames)):\n",
    "        plt.text(i,foodDepFemaleProbs[i],\"{0:.2f}\".format(foodDepFemaleProbs[i]),ha='center')\n",
    "#plt.savefig('Baseline Gender Probabilities Bar Chart.pdf')  \n",
    "plt.show()"
   ]
  },
  {
   "cell_type": "code",
   "execution_count": 14,
   "id": "c18b9b8a",
   "metadata": {},
   "outputs": [
    {
     "name": "stderr",
     "output_type": "stream",
     "text": [
      "posx and posy should be finite values\n",
      "posx and posy should be finite values\n"
     ]
    },
    {
     "data": {
      "image/png": "[encoded data removed]",
      "text/plain": [
       "<Figure size 432x288 with 1 Axes>"
      ]
     },
     "metadata": {
      "needs_background": "light"
     },
     "output_type": "display_data"
    }
   ],
   "source": [
    "plt.bar(clusterNames,ghrelinMaleProbs)\n",
    "plt.title('Ghrelin Male Probabilities')\n",
    "plt.xlabel('Clusters')\n",
    "plt.ylabel('Probabilities')\n",
    "plt.ylim(0,1)\n",
    "for i in range(len(clusterNames)):\n",
    "        plt.text(i,ghrelinMaleProbs[i],\"{0:.2f}\".format(ghrelinMaleProbs[i]),ha='center')\n",
    "#plt.savefig('Baseline Gender Probabilities Bar Chart.pdf')  \n",
    "plt.show()"
   ]
  },
  {
   "cell_type": "code",
   "execution_count": 16,
   "id": "208dcb5a",
   "metadata": {},
   "outputs": [
    {
     "name": "stderr",
     "output_type": "stream",
     "text": [
      "posx and posy should be finite values\n",
      "posx and posy should be finite values\n"
     ]
    },
    {
     "data": {
      "image/png": "[encoded data removed]",
      "text/plain": [
       "<Figure size 432x288 with 1 Axes>"
      ]
     },
     "metadata": {
      "needs_background": "light"
     },
     "output_type": "display_data"
    }
   ],
   "source": [
    "plt.bar(clusterNames,ghrelinFemaleProbs)\n",
    "plt.title('Ghrelin Female Probabilities')\n",
    "plt.xlabel('Clusters')\n",
    "plt.ylabel('Probabilities')\n",
    "plt.ylim(0,1)\n",
    "for i in range(len(clusterNames)):\n",
    "        plt.text(i,ghrelinFemaleProbs[i],\"{0:.2f}\".format(ghrelinFemaleProbs[i]),ha='center')\n",
    "#plt.savefig('Baseline Gender Probabilities Bar Chart.pdf')  \n",
    "plt.show()"
   ]
  },
  {
   "cell_type": "code",
   "execution_count": null,
   "id": "3010e5d7",
   "metadata": {},
   "outputs": [],
   "source": []
  }
 ],
 "metadata": {
  "kernelspec": {
   "display_name": "Python 3 (ipykernel)",
   "language": "python",
   "name": "python3"
  },
  "language_info": {
   "codemirror_mode": {
    "name": "ipython",
    "version": 3
   },
   "file_extension": ".py",
   "mimetype": "text/x-python",
   "name": "python",
   "nbconvert_exporter": "python",
   "pygments_lexer": "ipython3",
   "version": "3.7.13"
  }
 },
 "nbformat": 4,
 "nbformat_minor": 5
}
